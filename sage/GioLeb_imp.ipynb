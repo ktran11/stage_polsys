{
 "cells": [
  {
   "cell_type": "code",
   "execution_count": 2,
   "id": "61131e08",
   "metadata": {},
   "outputs": [],
   "source": [
    "%runfile utils/matrix_factorizations.sage"
   ]
  },
  {
   "cell_type": "code",
   "execution_count": null,
   "id": "69c93370",
   "metadata": {},
   "outputs": [],
   "source": []
  },
  {
   "cell_type": "code",
   "execution_count": 3,
   "id": "b82f06f2",
   "metadata": {},
   "outputs": [],
   "source": [
    "def create_permutation_matrix(shift):\n",
    "    s = copy(shift)\n",
    "    m = len(s)\n",
    "    A = list(list(zip(*sorted( [(s[i],i+1) for i in range(m)] )))[1])\n",
    "    Mn = MatrixSpace(ZZ,m,m)\n",
    "    \n",
    "    I = Mn.identity_matrix()\n",
    "    perm = Permutation(A)\n",
    "    return perm"
   ]
  },
  {
   "cell_type": "code",
   "execution_count": 4,
   "id": "cf3aa9e9",
   "metadata": {},
   "outputs": [],
   "source": [
    "def Basis(F0,s = None):\n",
    "    m,n = F0.dimensions()\n",
    "    if (s == None):\n",
    "        s = [0]*m\n",
    "\n",
    "    pi = create_permutation_matrix(s)\n",
    "    K,rrp, nrrp = PLUQ_to_left_kernel(F0.with_permuted_rows(pi))\n",
    "    r = m - K.nrows()\n",
    "    Mn = MatrixSpace(ZZ,m,m)\n",
    "    I = Mn.identity_matrix()\n",
    "    pi_mat = I.with_permuted_rows(pi)\n",
    "    P = Permutation([i+1 for i in rrp+nrrp]).inverse() \n",
    "    P_mat =  I.with_permuted_columns(P)\n",
    "    M = (P_mat*pi_mat).inverse_of_unit()*block_matrix([[x,0],[K,1]])*(P_mat*pi_mat)\n",
    "    u = (P_mat*pi_mat).inverse_of_unit()*((P_mat*pi_mat)*vector(s) + vector([1]*r+[0]*(m-r)))\n",
    "    return M,u"
   ]
  },
  {
   "cell_type": "code",
   "execution_count": null,
   "id": "028764e7",
   "metadata": {},
   "outputs": [],
   "source": []
  },
  {
   "cell_type": "code",
   "execution_count": 5,
   "id": "22ce1087",
   "metadata": {},
   "outputs": [],
   "source": [
    "m = 16\n",
    "n = 8\n",
    "F = GF(97)\n",
    "pR.<x> = F[]"
   ]
  },
  {
   "cell_type": "code",
   "execution_count": 6,
   "id": "aed0aab3",
   "metadata": {},
   "outputs": [],
   "source": [
    "M = MatrixSpace(F,m,n)\n",
    "Mm = MatrixSpace(F,m,n)\n",
    "\n",
    "MX = MatrixSpace(pR,m,m)"
   ]
  },
  {
   "cell_type": "code",
   "execution_count": 7,
   "id": "454f520d",
   "metadata": {},
   "outputs": [],
   "source": [
    "for i in range(100):\n",
    "    A = M.random_element() \n",
    "    shift = (ZZ^m).random_element()\n",
    "    B, new_shift= Basis(A,shift)\n",
    "    if (not B.is_minimal_approximant_basis(A,1,shift)):\n",
    "        print(\"error\")\n",
    "    if (list(new_shift) != B.row_degrees(shift)):\n",
    "        print(\"wrong shift\")"
   ]
  },
  {
   "cell_type": "code",
   "execution_count": 8,
   "id": "dbe42a03",
   "metadata": {},
   "outputs": [],
   "source": [
    "m = 8\n",
    "n = 5 \n",
    "F = GF(3)\n",
    "sigma = 5\n",
    "\n",
    "pR.<x> = F[]\n",
    "Ms = MatrixSpace(pR,m,n)\n",
    "Ms_n = MatrixSpace(pR,m,m)"
   ]
  },
  {
   "cell_type": "code",
   "execution_count": 9,
   "id": "09000a5f",
   "metadata": {},
   "outputs": [],
   "source": [
    "def M_Basis(F,sigma,shift = None):\n",
    "    pR = F.base_ring()\n",
    "    x = pR.gen()\n",
    "    m,n = F.dimensions()\n",
    "    R = parent(F)\n",
    "    if (shift == None):\n",
    "        shift = [0]*m\n",
    "        \n",
    "    P = [0]*sigma\n",
    "    u = [0]*sigma\n",
    "    M = [0]*sigma\n",
    "    P[0],u[0] = Basis(F.coefficient_matrix(0), shift)\n",
    "    for k in range(1,sigma):\n",
    "        F_prime = R(x^(-k)*P[k-1]*F).coefficient_matrix(0)\n",
    "        M[k],u[k] = Basis(F_prime, u[k-1])\n",
    "        P[k] = M[k]*P[k-1]\n",
    "    return P[-1], u[-1]"
   ]
  },
  {
   "cell_type": "code",
   "execution_count": 12,
   "id": "d087aea7",
   "metadata": {},
   "outputs": [],
   "source": [
    "for i in range(100):\n",
    "    A = Ms.random_element() \n",
    "    sigma = ZZ.random_element(1,10)\n",
    "    shift = (ZZ^m).random_element()\n",
    "    B, new_shift= M_Basis(A, sigma, shift)\n",
    "    if (not B.is_minimal_approximant_basis(A,sigma,shift)):\n",
    "        print(\"error\")"
   ]
  },
  {
   "cell_type": "code",
   "execution_count": 18,
   "id": "ab83f962",
   "metadata": {},
   "outputs": [],
   "source": [
    "def PM_Basis(F, sigma, shifts = None):\n",
    "    m,n = F.dimensions()\n",
    "    if (shifts == None):\n",
    "        shifts = [0]*m\n",
    "        \n",
    "    if sigma == 1:\n",
    "        return Basis(F.coefficient_matrix(0), shifts)\n",
    "    \n",
    "    Pl, ul = PM_Basis(F, floor(sigma/2), shifts)\n",
    "    F_prime = MP(Pl, F, floor(sigma/2) + 1, sigma)\n",
    "    Ph, uh = PM_Basis(F_prime, ceil(sigma/2), ul)\n",
    "    return Ph*Pl, uh"
   ]
  },
  {
   "cell_type": "code",
   "execution_count": 19,
   "id": "c928ce15",
   "metadata": {},
   "outputs": [],
   "source": [
    "def MP(P, F, i, j):\n",
    "    D = P*F\n",
    "    R = parent(D)\n",
    "    pR = D.base_ring()\n",
    "    x = pR.gen()\n",
    "    m,n = D.dimensions()\n",
    "    for k in range(m):\n",
    "        for l in range(n):\n",
    "            P = D[k,l]\n",
    "            P = P.shift(-(i-1)) % x^(j-i+1)\n",
    "            D[k,l] = P\n",
    "    return D"
   ]
  },
  {
   "cell_type": "code",
   "execution_count": 20,
   "id": "123c88bd",
   "metadata": {},
   "outputs": [],
   "source": [
    "m = 8\n",
    "n = 5 \n",
    "F = GF(3)\n",
    "sigma = 5\n",
    "\n",
    "pR.<x> = F[]\n",
    "Ms = MatrixSpace(pR,m,n)\n",
    "Ms_n = MatrixSpace(pR,m,m)"
   ]
  },
  {
   "cell_type": "code",
   "execution_count": 21,
   "id": "70146eb0",
   "metadata": {},
   "outputs": [],
   "source": [
    "for i in range(100):\n",
    "    A = Ms.random_element() \n",
    "    sigma = ZZ.random_element(1,10)\n",
    "    shift = (ZZ^m).random_element()\n",
    "    B, new_shift= PM_Basis(A, sigma, shift)\n",
    "    if (not B.is_minimal_approximant_basis(A,sigma,shift)):\n",
    "        print(\"error\")"
   ]
  },
  {
   "cell_type": "code",
   "execution_count": null,
   "id": "fb6650b5",
   "metadata": {},
   "outputs": [],
   "source": []
  }
 ],
 "metadata": {
  "kernelspec": {
   "display_name": "SageMath 9.7.beta0",
   "language": "sage",
   "name": "sagemath"
  },
  "language_info": {
   "codemirror_mode": {
    "name": "ipython",
    "version": 3
   },
   "file_extension": ".py",
   "mimetype": "text/x-python",
   "name": "python",
   "nbconvert_exporter": "python",
   "pygments_lexer": "ipython3",
   "version": "3.10.3"
  }
 },
 "nbformat": 4,
 "nbformat_minor": 5
}
