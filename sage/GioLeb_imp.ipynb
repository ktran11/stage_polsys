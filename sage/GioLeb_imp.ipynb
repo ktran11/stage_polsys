{
 "cells": [
  {
   "cell_type": "code",
   "execution_count": 95,
   "id": "ebd4f8f1",
   "metadata": {},
   "outputs": [],
   "source": [
    "def create_permutation_matrix(s):\n",
    "    s = list(s)\n",
    "    def key(si):\n",
    "        return si[0]\n",
    "    s_p = [(si,i) for i,si in enumerate(s)]\n",
    "    s_p.sort(key = key)\n",
    "    l = len(s)\n",
    "    M = MatrixSpace(ZZ,l)\n",
    "    P = M([[0]*l]*l)\n",
    "    for i in range(l):\n",
    "        P[i,s_p[i][1]] = 1\n",
    "    return P"
   ]
  },
  {
   "cell_type": "code",
   "execution_count": 96,
   "id": "b18e7946",
   "metadata": {},
   "outputs": [],
   "source": [
    "def Basis(F0,s = None):\n",
    "    m,n = F0.dimensions()\n",
    "    if (s == None):\n",
    "        s = [0]*m\n",
    "\n",
    "    pi = create_permutation_matrix(s)\n",
    "\n",
    "    P,L,U = (pi*F0).LU()\n",
    "    r = U.rank()\n",
    "    Lr = L[:r,:r]\n",
    "    G = L[r:,:r]\n",
    "    K = F0.base_ring()\n",
    "    pR.<x> = K[]\n",
    "    Pinv = P.inverse_of_unit()\n",
    "    M = block_matrix(2,2,[[x,0],[-G*Lr.inverse(), 1]])*Pinv*pi\n",
    "    MS = MatrixSpace(ZZ,m)\n",
    "    u = MS(Pinv)*pi*vector(s) + vector([1]*r+[0]*(m-r))\n",
    "    return M,u"
   ]
  },
  {
   "cell_type": "code",
   "execution_count": 97,
   "id": "456b39f6",
   "metadata": {},
   "outputs": [],
   "source": [
    "low_bound = -4\n",
    "high_bound = 5\n",
    "m = 4\n",
    "n = 2"
   ]
  },
  {
   "cell_type": "code",
   "execution_count": 113,
   "id": "b0726e7e",
   "metadata": {},
   "outputs": [],
   "source": [
    "s = [4,1,-2,3]"
   ]
  },
  {
   "cell_type": "code",
   "execution_count": 114,
   "id": "a436f932",
   "metadata": {},
   "outputs": [
    {
     "data": {
      "text/plain": [
       "[4, 1, -2, 3]"
      ]
     },
     "execution_count": 114,
     "metadata": {},
     "output_type": "execute_result"
    }
   ],
   "source": [
    "s"
   ]
  },
  {
   "cell_type": "code",
   "execution_count": 115,
   "id": "22ce1087",
   "metadata": {},
   "outputs": [],
   "source": [
    "pR = GF(3)"
   ]
  },
  {
   "cell_type": "code",
   "execution_count": 116,
   "id": "aed0aab3",
   "metadata": {},
   "outputs": [],
   "source": [
    "M = MatrixSpace(pR,m,n)"
   ]
  },
  {
   "cell_type": "code",
   "execution_count": 117,
   "id": "2452de7f",
   "metadata": {},
   "outputs": [],
   "source": [
    "A = M.random_element()"
   ]
  },
  {
   "cell_type": "code",
   "execution_count": 118,
   "id": "ba6f55fc",
   "metadata": {},
   "outputs": [
    {
     "name": "stdout",
     "output_type": "stream",
     "text": [
      "[0 0 1 0]\n",
      "[0 1 0 0]\n",
      "[0 0 0 1]\n",
      "[1 0 0 0]\n"
     ]
    },
    {
     "data": {
      "text/plain": [
       "(\n",
       "[0 x 0 0]               \n",
       "[0 0 0 x]               \n",
       "[0 0 1 0]               \n",
       "[1 0 0 2], (2, 4, -2, 4)\n",
       ")"
      ]
     },
     "execution_count": 118,
     "metadata": {},
     "output_type": "execute_result"
    }
   ],
   "source": [
    "Basis(A,s)"
   ]
  },
  {
   "cell_type": "code",
   "execution_count": 86,
   "id": "0d74b083",
   "metadata": {},
   "outputs": [],
   "source": [
    "P,L = A.LU(format = 'compact')"
   ]
  },
  {
   "cell_type": "code",
   "execution_count": 87,
   "id": "adaa3856",
   "metadata": {},
   "outputs": [],
   "source": [
    "P = Permutation([pi + 1 for pi in P])"
   ]
  },
  {
   "cell_type": "code",
   "execution_count": 88,
   "id": "a24d13cf",
   "metadata": {},
   "outputs": [
    {
     "data": {
      "text/plain": [
       "[1, 2, 3, 4, 5]"
      ]
     },
     "execution_count": 88,
     "metadata": {},
     "output_type": "execute_result"
    }
   ],
   "source": [
    "P"
   ]
  },
  {
   "cell_type": "code",
   "execution_count": 89,
   "id": "490884b8",
   "metadata": {},
   "outputs": [],
   "source": [
    "A.permute_rows(P)"
   ]
  },
  {
   "cell_type": "code",
   "execution_count": 77,
   "id": "0543383e",
   "metadata": {},
   "outputs": [
    {
     "data": {
      "text/plain": [
       "[1 2]\n",
       "[0 2]\n",
       "[0 0]\n",
       "[2 2]\n",
       "[2 0]"
      ]
     },
     "execution_count": 77,
     "metadata": {},
     "output_type": "execute_result"
    }
   ],
   "source": [
    "A"
   ]
  },
  {
   "cell_type": "code",
   "execution_count": 30,
   "id": "61a97118",
   "metadata": {},
   "outputs": [
    {
     "data": {
      "text/plain": [
       "[1 2]\n",
       "[2 0]\n",
       "[2 2]\n",
       "[1 2]\n",
       "[2 1]"
      ]
     },
     "execution_count": 30,
     "metadata": {},
     "output_type": "execute_result"
    }
   ],
   "source": [
    "A"
   ]
  },
  {
   "cell_type": "code",
   "execution_count": 24,
   "id": "4eb1f6fa",
   "metadata": {},
   "outputs": [
    {
     "data": {
      "text/plain": [
       "True"
      ]
     },
     "execution_count": 24,
     "metadata": {},
     "output_type": "execute_result"
    }
   ],
   "source": [
    "B.is_minimal_approximant_basis(A,1)"
   ]
  },
  {
   "cell_type": "code",
   "execution_count": 35,
   "id": "09000a5f",
   "metadata": {},
   "outputs": [],
   "source": [
    "def M_Basis(F,sigma,shift = None):\n",
    "    pR = F.base_ring()\n",
    "    x = pR.gen()\n",
    "    m,n = F.dimensions()\n",
    "    R = parent(F)\n",
    "    MS = MatrixSpace(pR,m)\n",
    "    if (shift == None):\n",
    "        shift = [0]*m\n",
    "    P,u = Basis(F.coefficient_matrix(0), shift)\n",
    "    for k in range(1,sigma):\n",
    "        F_prime = R(x^(-k)*MS(P)*F).coefficient_matrix(0)\n",
    "        M,u = Basis(F_prime, u)\n",
    "        P = M*P\n",
    "    return P,u"
   ]
  },
  {
   "cell_type": "code",
   "execution_count": 36,
   "id": "bdc7b45e",
   "metadata": {},
   "outputs": [],
   "source": [
    "M,u = M_Basis(A,3)"
   ]
  },
  {
   "cell_type": "code",
   "execution_count": 283,
   "id": "dfa5c18a",
   "metadata": {},
   "outputs": [
    {
     "data": {
      "text/plain": [
       "False"
      ]
     },
     "execution_count": 283,
     "metadata": {},
     "output_type": "execute_result"
    }
   ],
   "source": [
    "M.is_minimal_approximant_basis(A,3)"
   ]
  },
  {
   "cell_type": "code",
   "execution_count": 40,
   "id": "c02f459e",
   "metadata": {},
   "outputs": [],
   "source": [
    "B = (M*A)"
   ]
  },
  {
   "cell_type": "code",
   "execution_count": 41,
   "id": "c1df4730",
   "metadata": {},
   "outputs": [
    {
     "data": {
      "text/plain": [
       "[  x^5 + 2*x^3           x^3     x^4 + x^3           x^3             0]\n",
       "[        2*x^4     x^4 + x^3             0         2*x^3             0]\n",
       "[  x^4 + 2*x^3         2*x^4   x^4 + 2*x^3         2*x^4             0]\n",
       "[            0   2*x^5 + x^3             0           x^3             0]\n",
       "[          x^5 2*x^4 + 2*x^3           x^3   2*x^4 + x^3   2*x^4 + x^3]"
      ]
     },
     "execution_count": 41,
     "metadata": {},
     "output_type": "execute_result"
    }
   ],
   "source": [
    "B"
   ]
  },
  {
   "cell_type": "code",
   "execution_count": 48,
   "id": "1a240272",
   "metadata": {},
   "outputs": [
    {
     "data": {
      "text/plain": [
       "[1 0 0 0 0]\n",
       "[2 1 0 0 0]\n",
       "[1 2 1 2 0]\n",
       "[0 2 0 0 0]\n",
       "[1 0 0 0 0]"
      ]
     },
     "execution_count": 48,
     "metadata": {},
     "output_type": "execute_result"
    }
   ],
   "source": [
    "B.leading_matrix()"
   ]
  },
  {
   "cell_type": "code",
   "execution_count": 46,
   "id": "f4d40ab9",
   "metadata": {},
   "outputs": [
    {
     "data": {
      "text/plain": [
       "False"
      ]
     },
     "execution_count": 46,
     "metadata": {},
     "output_type": "execute_result"
    }
   ],
   "source": [
    "B.is_reduced()"
   ]
  },
  {
   "cell_type": "code",
   "execution_count": 49,
   "id": "3895a504",
   "metadata": {},
   "outputs": [],
   "source": [
    "def PM_Basis(F, sigma, shift = None):\n",
    "    if (sigma == 1):\n",
    "        return Basis(F%x, shift)\n",
    "    \n",
    "    f = floor(sigma/2)\n",
    "    c = ceil(sigma/2)\n",
    "    P_l, u_l = PM_Basis(F, f, shift)\n",
    "    F_p = P_l*F\n",
    "    P_h, u_h = PM_Basis(F_p, c, u_l)\n",
    "    return P_h * P_l, u_h"
   ]
  },
  {
   "cell_type": "code",
   "execution_count": 62,
   "id": "0f14dab0",
   "metadata": {},
   "outputs": [],
   "source": [
    "B,u = PM_Basis(A,6)"
   ]
  },
  {
   "cell_type": "code",
   "execution_count": 63,
   "id": "a9e9b6d2",
   "metadata": {},
   "outputs": [
    {
     "data": {
      "text/plain": [
       "False"
      ]
     },
     "execution_count": 63,
     "metadata": {},
     "output_type": "execute_result"
    }
   ],
   "source": [
    "B.is_minimal_approximant_basis(A,6)"
   ]
  },
  {
   "cell_type": "code",
   "execution_count": 64,
   "id": "72232825",
   "metadata": {},
   "outputs": [
    {
     "data": {
      "text/plain": [
       "[        2*x^2       x^2 + x             0           2*x             0]\n",
       "[  (x^2 + 2)*x             x     (x + 1)*x             x             0]\n",
       "[    (x + 2)*x         2*x*x     (x + 2)*x         2*x*x             0]\n",
       "[            0 (2*x^2 + 1)*x             0             x             0]\n",
       "[        x^2*x   (2*x + 2)*x             x   (2*x + 1)*x   (2*x + 1)*x]"
      ]
     },
     "execution_count": 64,
     "metadata": {},
     "output_type": "execute_result"
    }
   ],
   "source": [
    "B*A"
   ]
  },
  {
   "cell_type": "code",
   "execution_count": null,
   "id": "a01f8d4b",
   "metadata": {},
   "outputs": [],
   "source": []
  }
 ],
 "metadata": {
  "kernelspec": {
   "display_name": "SageMath 9.7.beta0",
   "language": "sage",
   "name": "sagemath"
  },
  "language_info": {
   "codemirror_mode": {
    "name": "ipython",
    "version": 3
   },
   "file_extension": ".py",
   "mimetype": "text/x-python",
   "name": "python",
   "nbconvert_exporter": "python",
   "pygments_lexer": "ipython3",
   "version": "3.10.3"
  }
 },
 "nbformat": 4,
 "nbformat_minor": 5
}
