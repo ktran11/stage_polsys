{
 "cells": [
  {
   "cell_type": "code",
   "execution_count": 1,
   "id": "61131e08",
   "metadata": {},
   "outputs": [],
   "source": [
    "%runfile utils/matrix_factorizations.sage"
   ]
  },
  {
   "cell_type": "code",
   "execution_count": null,
   "id": "69c93370",
   "metadata": {},
   "outputs": [],
   "source": []
  },
  {
   "cell_type": "code",
   "execution_count": 2,
   "id": "b82f06f2",
   "metadata": {},
   "outputs": [],
   "source": [
    "def create_permutation_matrix(shift):\n",
    "    s = copy(shift)\n",
    "    m = len(s)\n",
    "    A = list(list(zip(*sorted( [(s[i],i+1) for i in range(m)] )))[1])\n",
    "    Mn = MatrixSpace(ZZ,m,m)\n",
    "    \n",
    "    I = Mn.identity_matrix()\n",
    "    perm = Permutation(A)\n",
    "    return perm"
   ]
  },
  {
   "cell_type": "code",
   "execution_count": 3,
   "id": "cf3aa9e9",
   "metadata": {},
   "outputs": [],
   "source": [
    "def Basis(F0,s = None):\n",
    "    m,n = F0.dimensions()\n",
    "    if (s == None):\n",
    "        s = [0]*m\n",
    "\n",
    "    pi = create_permutation_matrix(s)\n",
    "    K,rrp, nrrp = PLUQ_to_left_kernel(F0.with_permuted_rows(pi))\n",
    "    r = m - K.nrows()\n",
    "    Mn = MatrixSpace(ZZ,m,m)\n",
    "    I = Mn.identity_matrix()\n",
    "    pi_mat = I.with_permuted_rows(pi)\n",
    "    P = Permutation([i+1 for i in rrp+nrrp]).inverse() \n",
    "    P_mat =  I.with_permuted_columns(P)\n",
    "    M = (P_mat*pi_mat).inverse_of_unit()*block_matrix([[x,0],[K,1]])*(P_mat*pi_mat)\n",
    "    u = (P_mat*pi_mat).inverse_of_unit()*((P_mat*pi_mat)*vector(s) + vector([1]*r+[0]*(m-r)))\n",
    "    return M,u"
   ]
  },
  {
   "cell_type": "code",
   "execution_count": null,
   "id": "028764e7",
   "metadata": {},
   "outputs": [],
   "source": []
  },
  {
   "cell_type": "code",
   "execution_count": 15,
   "id": "22ce1087",
   "metadata": {},
   "outputs": [],
   "source": [
    "m = 16\n",
    "n = 8\n",
    "F = GF(97)\n",
    "pR.<x> = F[]"
   ]
  },
  {
   "cell_type": "code",
   "execution_count": 5,
   "id": "aed0aab3",
   "metadata": {},
   "outputs": [],
   "source": [
    "M = MatrixSpace(F,m,n)\n",
    "Mm = MatrixSpace(F,m,n)\n",
    "\n",
    "MX = MatrixSpace(pR,m,m)"
   ]
  },
  {
   "cell_type": "code",
   "execution_count": 6,
   "id": "454f520d",
   "metadata": {},
   "outputs": [],
   "source": [
    "for i in range(100):\n",
    "    A = M.random_element() \n",
    "    shift = (ZZ^m).random_element()\n",
    "    B, new_shift= Basis(A,shift)\n",
    "    if (not B.is_minimal_approximant_basis(A,1,shift)):\n",
    "        print(\"error\")\n",
    "    if (list(new_shift) != B.row_degrees(shift)):\n",
    "        print(\"wrong shift\")"
   ]
  },
  {
   "cell_type": "code",
   "execution_count": 17,
   "id": "dbe42a03",
   "metadata": {},
   "outputs": [],
   "source": [
    "m = 8\n",
    "n = 5 \n",
    "F = GF(3)\n",
    "sigma = 5\n",
    "\n",
    "pR.<x> = F[]\n",
    "Ms = MatrixSpace(pR,m,n)\n",
    "Ms_n = MatrixSpace(pR,m,m)\n",
    "A = Ms.random_element()"
   ]
  },
  {
   "cell_type": "code",
   "execution_count": 18,
   "id": "09000a5f",
   "metadata": {},
   "outputs": [],
   "source": [
    "def M_Basis(F,sigma,shift = None):\n",
    "    pR = F.base_ring()\n",
    "    x = pR.gen()\n",
    "    m,n = F.dimensions()\n",
    "    R = parent(F)\n",
    "    if (shift == None):\n",
    "        shift = [0]*m\n",
    "        \n",
    "    P = [0]*sigma\n",
    "    u = [0]*sigma\n",
    "    M = [0]*sigma\n",
    "    P[0],u[0] = Basis(F.coefficient_matrix(0), shift)\n",
    "    for k in range(1,sigma):\n",
    "        F_prime = R(x^(-k)*P[k-1]*F).coefficient_matrix(0)\n",
    "        M[k],u[k] = Basis(F_prime, u[k-1])\n",
    "        P[k] = M[k]*P[k-1]\n",
    "    return P[-1], u[-1]"
   ]
  },
  {
   "cell_type": "code",
   "execution_count": 19,
   "id": "68180836",
   "metadata": {},
   "outputs": [],
   "source": [
    "A = Ms([[0 +1*x^1 + 2*x^2 + 0*x^3 + 1*x^4 + 0*x^5 + 0*x^6 + 0*x^7 + 0*x^8 + 1*x^9,0 +0*x^1 + 0*x^2 + 2*x^3,1 +1*x^1 + 0*x^2 + 2*x^3 + 0*x^4 + 2*x^5 + 2*x^6 + 0*x^7 + 0*x^8 + 2*x^9,0, 0 +0*x^1 + 2*x^2 + 0*x^3 + 2*x^4 + 1*x^5 + 1*x^6 + 2*x^7],\n",
    "[0 +0*x^1 + 2*x^2 + 0*x^3 + 0*x^4 + 0*x^5 + 0*x^6 + 1*x^7,0 +1*x^1 + 2*x^2 + 1*x^3 + 2*x^4 + 0*x^5 + 1*x^6 + 1*x^7 + 0*x^8 + 2*x^9,0, 0, 0 +0*x^1 + 0*x^2 + 2*x^3 + 0*x^4 + 1*x^5 + 1*x^6 + 0*x^7 + 1*x^8 + 1*x^9],\n",
    "[0 +0*x^1 + 2*x^2 + 0*x^3 + 1*x^4 + 1*x^5 + 1*x^6 + 0*x^7 + 2*x^8,0 +2*x^1 + 0*x^2 + 0*x^3 + 2*x^4,0 +0*x^1 + 1*x^2 + 0*x^3 + 1*x^4 + 0*x^5 + 2*x^6 + 0*x^7 + 1*x^8 + 1*x^9,0 +1*x^1 + 1*x^2 + 2*x^3 + 2*x^4 + 1*x^5 + 2*x^6 + 1*x^7 + 1*x^8 + 1*x^9,0 +1*x^1 + 0*x^2 + 1*x^3 + 0*x^4 + 2*x^5 + 2*x^6 + 1*x^7 + 1*x^8 + 1*x^9],\n",
    "[0 +1*x^1 + 0*x^2 + 0*x^3 + 0*x^4 + 0*x^5 + 1*x^6 + 0*x^7 + 2*x^8,0 +2*x^1 + 2*x^2 + 0*x^3 + 1*x^4 + 2*x^5 + 1*x^6 + 2*x^7 + 0*x^8 + 2*x^9,0 +0*x^1 + 0*x^2 + 0*x^3 + 0*x^4 + 0*x^5 + 2*x^6 + 2*x^7,0 +0*x^1 + 0*x^2 + 0*x^3 + 0*x^4 + 0*x^5 + 2*x^6,2 +1*x^1 + 2*x^2 + 0*x^3 + 0*x^4 + 0*x^5 + 0*x^6 + 0*x^7 + 0*x^8 + 2*x^9],\n",
    "[0 +0*x^1 + 0*x^2 + 0*x^3 + 1*x^4 + 0*x^5 + 0*x^6 + 0*x^7 + 0*x^8 + 1*x^9,1 +2*x^1 + 1*x^2 + 2*x^3 + 1*x^4 + 0*x^5 + 2*x^6 + 1*x^7 + 0*x^8 + 1*x^9,2 +2*x^1 + 2*x^2 + 2*x^3 + 0*x^4 + 1*x^5 + 0*x^6 + 1*x^7 + 1*x^8,0 +0*x^1 + 0*x^2 + 0*x^3 + 0*x^4 + 0*x^5 + 1*x^6,0],\n",
    "[0, 0 +0*x^1 + 0*x^2 + 0*x^3 + 0*x^4 + 0*x^5 + 0*x^6 + 1*x^7,1 +2*x^1 + 1*x^2 + 1*x^3 + 2*x^4 + 2*x^5 + 0*x^6 + 0*x^7 + 0*x^8 + 2*x^9,1 +1*x^1 + 2*x^2 + 1*x^3 + 1*x^4 + 1*x^5 + 0*x^6 + 2*x^7 + 0*x^8 + 1*x^9,0 +0*x^1 + 0*x^2 + 2*x^3],\n",
    "[1 +2*x^1 + 2*x^2 + 1*x^3 + 0*x^4 + 1*x^5 + 2*x^6 + 1*x^7 + 1*x^8 + 2*x^9,0 +0*x^1 + 2*x^2 + 0*x^3 + 0*x^4 + 0*x^5 + 0*x^6 + 0*x^7 + 2*x^8,0, 2 +1*x^1 + 0*x^2 + 2*x^3 + 0*x^4 + 0*x^5 + 2*x^6 + 1*x^7 + 0*x^8 + 1*x^9,0 +1*x^1 + 1*x^2 + 0*x^3 + 1*x^4 + 2*x^5 + 1*x^6 + 1*x^7 + 0*x^8 + 1*x^9],\n",
    "[2 +1*x^1 + 0*x^2 + 1*x^3 + 2*x^4 + 0*x^5 + 0*x^6 + 1*x^7 + 1*x^8 + 2*x^9,1 +2*x^1 + 2*x^2 + 1*x^3 + 2*x^4 + 0*x^5 + 1*x^6 + 0*x^7 + 2*x^8 + 2*x^9,0 +0*x^1 + 0*x^2 + 2*x^3 + 0*x^4 + 1*x^5 + 0*x^6 + 1*x^7 + 1*x^8,0 +0*x^1 + 0*x^2 + 1*x^3 + 1*x^4,2]]\n",
    ")\n",
    "\n",
    "\n",
    "shifts = [7,2,0,1,5,4,3,6]\n"
   ]
  },
  {
   "cell_type": "code",
   "execution_count": 26,
   "id": "393e53b3",
   "metadata": {},
   "outputs": [],
   "source": [
    "P,u = M_Basis(A, sigma, shifts)"
   ]
  },
  {
   "cell_type": "code",
   "execution_count": 27,
   "id": "6255eebe",
   "metadata": {},
   "outputs": [
    {
     "data": {
      "text/plain": [
       "[                            1         2*x^3 + 2*x^2 + x + 1               2*x^2 + 2*x + 2 x^4 + 2*x^3 + 2*x^2 + 2*x + 2                             2                 x^2 + 2*x + 1                     2*x^3 + 1                             1]\n",
       "[                            0                           x^4                             0                             0                             0                             0                             0                             0]\n",
       "[                            0                             0                           x^4                             0                             0                             0                             0                             0]\n",
       "[                            0                             0                             0                           x^5                             0                             0                             0                             0]\n",
       "[                            0                   2*x^3 + x^2                   x^3 + 2*x^2                         2*x^3                           x^3                           x^3                           x^4                             0]\n",
       "[                            0               x^3 + x^2 + 2*x                     2*x^2 + x                           x^2                         2*x^2                   x^4 + 2*x^2                 2*x^4 + 2*x^3                             0]\n",
       "[                            0                   x^2 + x + 2               2*x^3 + 2*x + 1                     2*x^4 + x                           2*x                     x^3 + 2*x           x^4 + 2*x^3 + 2*x^2                             0]\n",
       "[                            0                             0                         x + 1                 2*x^3 + 2*x^2                         2*x^2                   2*x^3 + x^2                 x^3 + x^2 + x                             x]"
      ]
     },
     "execution_count": 27,
     "metadata": {},
     "output_type": "execute_result"
    }
   ],
   "source": [
    "P"
   ]
  },
  {
   "cell_type": "code",
   "execution_count": 28,
   "id": "c42e00e1",
   "metadata": {},
   "outputs": [
    {
     "data": {
      "text/plain": [
       "(7, 6, 4, 6, 8, 8, 7, 7)"
      ]
     },
     "execution_count": 28,
     "metadata": {},
     "output_type": "execute_result"
    }
   ],
   "source": [
    "u"
   ]
  },
  {
   "cell_type": "code",
   "execution_count": 29,
   "id": "a51b2757",
   "metadata": {},
   "outputs": [
    {
     "data": {
      "text/plain": [
       "[                x     2*x^2 + x + 2           x^2 + x               2*x                 x 2*x^3 + 2*x^2 + x         2*x^3 + x                 x]\n",
       "[                0               x^4                 0                 0                 0                 0                 0                 0]\n",
       "[                0                 0               x^4                 0                 0                 0                 0                 0]\n",
       "[                0                 0                 0               x^4                 0                 0                 0                 0]\n",
       "[                0                 0                 0                 0               x^2                 0                 0                 0]\n",
       "[                0       x^3 + 2*x^2       x^3 + 2*x^2               x^3                 x               x^4               x^2               2*x]\n",
       "[                0                 0               x^3                 0               x^2                 0               x^4                 0]\n",
       "[                0               x^3               x^3                 0                 0                 0                 0               x^2]"
      ]
     },
     "execution_count": 29,
     "metadata": {},
     "output_type": "execute_result"
    }
   ],
   "source": [
    "res = Ms_n([[0 +1*x^1,2 +1*x^1 + 2*x^2,0 +1*x^1 + 1*x^2,0 +2*x^1,0 +1*x^1,0 +1*x^1 + 2*x^2 + 2*x^3,0 +1*x^1 + 0*x^2 + 2*x^3,0 +1*x^1],\n",
    "[0, 0 +0*x^1 + 0*x^2 + 0*x^3 + 1*x^4,0, 0, 0, 0, 0, 0],\n",
    "[0, 0, 0 +0*x^1 + 0*x^2 + 0*x^3 + 1*x^4,0, 0, 0, 0, 0],\n",
    "[0, 0, 0, 0 +0*x^1 + 0*x^2 + 0*x^3 + 1*x^4,0, 0, 0, 0],\n",
    "[0, 0, 0, 0, 0 +0*x^1 + 1*x^2,0, 0, 0],\n",
    "[0, 0 +0*x^1 + 2*x^2 + 1*x^3,0 +0*x^1 + 2*x^2 + 1*x^3,0 +0*x^1 + 0*x^2 + 1*x^3,0 +1*x^1,0 +0*x^1 + 0*x^2 + 0*x^3 + 1*x^4,0 +0*x^1 + 1*x^2,0 +2*x^1],\n",
    "[0, 0, 0 +0*x^1 + 0*x^2 + 1*x^3,0, 0 +0*x^1 + 1*x^2,0, 0 +0*x^1 + 0*x^2 + 0*x^3 + 1*x^4,0],\n",
    "[0, 0 +0*x^1 + 0*x^2 + 1*x^3,0 +0*x^1 + 0*x^2 + 1*x^3,0, 0, 0, 0, 0 +0*x^1 + 1*x^2]]\n",
    ")\n",
    "\n",
    "\n",
    "res"
   ]
  },
  {
   "cell_type": "code",
   "execution_count": 25,
   "id": "7c795385",
   "metadata": {},
   "outputs": [
    {
     "data": {
      "text/plain": [
       "[                            1         2*x^3 + 2*x^2 + x + 1               2*x^2 + 2*x + 2 x^4 + 2*x^3 + 2*x^2 + 2*x + 2                             2                 x^2 + 2*x + 1                     2*x^3 + 1                             1]\n",
       "[                            0                           x^4                             0                             0                             0                             0                             0                             0]\n",
       "[                            0                             0                           x^4                             0                             0                             0                             0                             0]\n",
       "[                            0                             0                             0                           x^5                             0                             0                             0                             0]\n",
       "[                            0                   2*x^3 + x^2                   x^3 + 2*x^2                         2*x^3                           x^3                           x^3                           x^4                             0]\n",
       "[                            0               x^3 + x^2 + 2*x                     2*x^2 + x                           x^2                         2*x^2                   x^4 + 2*x^2                 2*x^4 + 2*x^3                             0]\n",
       "[                            0                   x^2 + x + 2               2*x^3 + 2*x + 1                     2*x^4 + x                           2*x                     x^3 + 2*x           x^4 + 2*x^3 + 2*x^2                             0]\n",
       "[                            0                             0                         x + 1                 2*x^3 + 2*x^2                         2*x^2                   2*x^3 + x^2                 x^3 + x^2 + x                             x]"
      ]
     },
     "execution_count": 25,
     "metadata": {},
     "output_type": "execute_result"
    }
   ],
   "source": [
    "res = Ms_n([[1,1 +1*x^1 + 2*x^2 + 2*x^3,2 +2*x^1 + 2*x^2,2 +2*x^1 + 2*x^2 + 2*x^3 + 1*x^4,2,1 +2*x^1 + 1*x^2,1 +0*x^1 + 0*x^2 + 2*x^3,1],\n",
    "[0, 0 +0*x^1 + 0*x^2 + 0*x^3 + 1*x^4,0, 0, 0, 0, 0, 0],\n",
    "[0, 0, 0 +0*x^1 + 0*x^2 + 0*x^3 + 1*x^4,0, 0, 0, 0, 0],\n",
    "[0, 0, 0, 0 +0*x^1 + 0*x^2 + 0*x^3 + 0*x^4 + 1*x^5,0, 0, 0, 0],\n",
    "[0, 0 +0*x^1 + 1*x^2 + 2*x^3,0 +0*x^1 + 2*x^2 + 1*x^3,0 +0*x^1 + 0*x^2 + 2*x^3,0 +0*x^1 + 0*x^2 + 1*x^3,0 +0*x^1 + 0*x^2 + 1*x^3,0 +0*x^1 + 0*x^2 + 0*x^3 + 1*x^4,0],\n",
    "[0, 0 +2*x^1 + 1*x^2 + 1*x^3,0 +1*x^1 + 2*x^2,0 +0*x^1 + 1*x^2,0 +0*x^1 + 2*x^2,0 +0*x^1 + 2*x^2 + 0*x^3 + 1*x^4,0 +0*x^1 + 0*x^2 + 2*x^3 + 2*x^4,0],\n",
    "[0, 2 +1*x^1 + 1*x^2,1 +2*x^1 + 0*x^2 + 2*x^3,0 +1*x^1 + 0*x^2 + 0*x^3 + 2*x^4,0 +2*x^1,0 +2*x^1 + 0*x^2 + 1*x^3,0 +0*x^1 + 2*x^2 + 2*x^3 + 1*x^4,0],\n",
    "[0, 0, 1 +1*x^1,0 +0*x^1 + 2*x^2 + 2*x^3,0 +0*x^1 + 2*x^2,0 +0*x^1 + 1*x^2 + 2*x^3,0 +1*x^1 + 1*x^2 + 1*x^3,0 +1*x^1]]\n",
    ")\n",
    "res"
   ]
  },
  {
   "cell_type": "code",
   "execution_count": 14,
   "id": "d087aea7",
   "metadata": {},
   "outputs": [],
   "source": [
    "for i in range(100):\n",
    "    A = Ms.random_element() \n",
    "    sigma = ZZ.random_element(1,10)\n",
    "    shift = (ZZ^m).random_element()\n",
    "    B, new_shift= M_Basis(A, sigma, shift)\n",
    "    if (not B.is_minimal_approximant_basis(A,sigma,shift)):\n",
    "        print(\"error\")"
   ]
  },
  {
   "cell_type": "code",
   "execution_count": null,
   "id": "ab83f962",
   "metadata": {},
   "outputs": [],
   "source": []
  },
  {
   "cell_type": "code",
   "execution_count": null,
   "id": "c928ce15",
   "metadata": {},
   "outputs": [],
   "source": []
  }
 ],
 "metadata": {
  "kernelspec": {
   "display_name": "SageMath 9.7.beta0",
   "language": "sage",
   "name": "sagemath"
  },
  "language_info": {
   "codemirror_mode": {
    "name": "ipython",
    "version": 3
   },
   "file_extension": ".py",
   "mimetype": "text/x-python",
   "name": "python",
   "nbconvert_exporter": "python",
   "pygments_lexer": "ipython3",
   "version": "3.10.3"
  }
 },
 "nbformat": 4,
 "nbformat_minor": 5
}
