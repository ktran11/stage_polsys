{
 "cells": [
  {
   "cell_type": "code",
   "execution_count": 42,
   "id": "ebd4f8f1",
   "metadata": {},
   "outputs": [],
   "source": [
    "def create_permutation_matrix(s):\n",
    "    s = list(s)\n",
    "    def key(si):\n",
    "        return si[0]\n",
    "    s_p = [(si,i) for i,si in enumerate(s)]\n",
    "    s_p.sort(key = key)\n",
    "    l = len(s)\n",
    "    M = MatrixSpace(ZZ,l)\n",
    "    P = M([[0]*l]*l)\n",
    "    for i in range(l):\n",
    "        P[i,s_p[i][1]] = 1\n",
    "    return P"
   ]
  },
  {
   "cell_type": "code",
   "execution_count": 43,
   "id": "b18e7946",
   "metadata": {},
   "outputs": [],
   "source": [
    "def Basis(F0,s = None):\n",
    "    m,n = F0.dimensions()\n",
    "    if (s == None):\n",
    "        s = [0]*m\n",
    "\n",
    "    pi = create_permutation_matrix(s)\n",
    "    P,L,U = (pi*F0).LU()\n",
    "    r = U.rank()\n",
    "    Lr = L[:r,:r]\n",
    "    G = L[r:,:r]\n",
    "    K = F0.base_ring()\n",
    "    pR.<x> = K[]\n",
    "    Pinv = P.inverse_of_unit()\n",
    "    pi_inv = pi.inverse_of_unit()\n",
    "    M = pi_inv*P*block_matrix(2,2,[[x,0],[-G*Lr.inverse(), 1]])*Pinv*pi\n",
    "    MS = MatrixSpace(ZZ,m)\n",
    "    u = pi_inv*P*(Pinv*pi*vector(s) + vector([1]*r+[0]*(m-r)))\n",
    "    return M,u"
   ]
  },
  {
   "cell_type": "code",
   "execution_count": 44,
   "id": "22ce1087",
   "metadata": {},
   "outputs": [],
   "source": [
    "m = 8\n",
    "n = 5\n",
    "F = GF(13)\n",
    "pR.<x> = F[]"
   ]
  },
  {
   "cell_type": "code",
   "execution_count": 45,
   "id": "aed0aab3",
   "metadata": {},
   "outputs": [],
   "source": [
    "M = MatrixSpace(F,m,n)\n",
    "MX = MatrixSpace(pR,m,n)"
   ]
  },
  {
   "cell_type": "code",
   "execution_count": 46,
   "id": "2452de7f",
   "metadata": {},
   "outputs": [],
   "source": [
    "AX=MX.random_element()\n",
    "A = M(AX.coefficient_matrix(0))"
   ]
  },
  {
   "cell_type": "code",
   "execution_count": 47,
   "id": "8160f7f5",
   "metadata": {},
   "outputs": [],
   "source": [
    "A = M([[10, 1 , 6,  0, 12],\n",
    "[ 3 , 6 , 4 , 6 ,10],\n",
    "[ 9 , 6 ,11,  4,  2],\n",
    "[ 5  ,4  ,6 , 4 , 0],\n",
    "[ 9 , 9,  4  ,7 , 9],\n",
    "[11  ,6 ,10 , 0,  1],\n",
    "[ 8  ,8 , 1 , 1,  2],\n",
    "[ 9 ,10 , 3, 12,  8]]\n",
    ")"
   ]
  },
  {
   "cell_type": "code",
   "execution_count": 48,
   "id": "75435398",
   "metadata": {},
   "outputs": [
    {
     "data": {
      "text/plain": [
       "[0, -1, -2, -3, -4, -5, -6, -7]"
      ]
     },
     "execution_count": 48,
     "metadata": {},
     "output_type": "execute_result"
    }
   ],
   "source": [
    "shifts = [-i for i in range(m)]\n",
    "shifts"
   ]
  },
  {
   "cell_type": "code",
   "execution_count": 49,
   "id": "ba6f55fc",
   "metadata": {},
   "outputs": [],
   "source": [
    "B, new_shifts = Basis(A,shifts)"
   ]
  },
  {
   "cell_type": "code",
   "execution_count": 50,
   "id": "9bad9d2d",
   "metadata": {},
   "outputs": [
    {
     "data": {
      "text/plain": [
       "True"
      ]
     },
     "execution_count": 50,
     "metadata": {},
     "output_type": "execute_result"
    }
   ],
   "source": [
    "B.is_minimal_approximant_basis(A,1, shifts = shifts)"
   ]
  },
  {
   "cell_type": "code",
   "execution_count": 51,
   "id": "9e605112",
   "metadata": {},
   "outputs": [
    {
     "data": {
      "text/plain": [
       "(0, 12, 11, 11, 10, 9, 8, 7)"
      ]
     },
     "execution_count": 51,
     "metadata": {},
     "output_type": "execute_result"
    }
   ],
   "source": [
    "new_shifts"
   ]
  },
  {
   "cell_type": "code",
   "execution_count": 55,
   "id": "ec5e3fa2",
   "metadata": {},
   "outputs": [
    {
     "name": "stdout",
     "output_type": "stream",
     "text": [
      "False [-1, -2, 4, 3, 3, 3, 3, -3] [12, 9, 4, 3, 3, 3, 3, 10]\n",
      "Not reduced\n"
     ]
    }
   ],
   "source": [
    "for i in range(100):\n",
    "    AX=MX.random_element()\n",
    "    A = M(AX.coefficient_matrix(0))\n",
    "    shifts = [ZZ.random_element(-4,5) for i in range(m)]\n",
    "    B, new_shifts = Basis(A,shifts)\n",
    "    if(B.row_degrees(shifts = shifts) != new_shifts.list()):\n",
    "        print('False',B.row_degrees(shifts = shifts),new_shifts.list())\n",
    "    if (not B.is_reduced(shifts = shifts)):\n",
    "        print('Not reduced')\n",
    "        break"
   ]
  },
  {
   "cell_type": "code",
   "execution_count": 56,
   "id": "dbe42a03",
   "metadata": {},
   "outputs": [],
   "source": [
    "pR.<x> = GF(13)[]\n",
    "m = 8\n",
    "n = 5\n",
    "sigma = 40\n",
    "Ms = MatrixSpace(pR,m,n)\n",
    "A = Ms.random_element()"
   ]
  },
  {
   "cell_type": "code",
   "execution_count": 57,
   "id": "09000a5f",
   "metadata": {},
   "outputs": [],
   "source": [
    "def M_Basis(F,sigma,shift = None):\n",
    "    pR = F.base_ring()\n",
    "    x = pR.gen()\n",
    "    m,n = F.dimensions()\n",
    "    R = parent(F)\n",
    "    if (shift == None):\n",
    "        shift = [0]*m\n",
    "        \n",
    "    P = [0]*sigma\n",
    "    u = [0]*sigma\n",
    "    M = [0]*sigma\n",
    "    P[0],u[0] = Basis(F.coefficient_matrix(0), shift)\n",
    "    for k in range(1,sigma):\n",
    "        F_prime = R(x^(-k)*P[k-1]*F).coefficient_matrix(0)\n",
    "        M[k],u[k] = Basis(F_prime, u[k-1])\n",
    "        P[k] = M[k]*P[k-1]\n",
    "    return P, u, M"
   ]
  },
  {
   "cell_type": "code",
   "execution_count": 58,
   "id": "d0661e7c",
   "metadata": {},
   "outputs": [
    {
     "name": "stdout",
     "output_type": "stream",
     "text": [
      "Error\n",
      "Error\n",
      "Error\n",
      "Error\n",
      "Error\n",
      "Error\n",
      "Error\n",
      "Error\n",
      "Error\n",
      "Error\n",
      "Error\n",
      "Error\n",
      "Error\n",
      "Error\n",
      "Error\n",
      "Error\n",
      "Error\n",
      "Error\n",
      "Error\n",
      "Error\n",
      "Error\n",
      "Error\n",
      "Error\n",
      "Error\n",
      "Error\n",
      "Error\n",
      "Error\n",
      "Error\n",
      "Error\n",
      "Error\n",
      "Error\n",
      "Error\n",
      "Error\n",
      "Error\n",
      "Error\n",
      "Error\n",
      "Error\n",
      "Error\n",
      "Error\n",
      "Error\n",
      "Error\n",
      "Error\n",
      "Error\n",
      "Error\n",
      "Error\n",
      "Error\n",
      "Error\n",
      "Error\n",
      "Error\n",
      "Error\n",
      "Error\n",
      "Error\n",
      "Error\n",
      "Error\n",
      "Error\n",
      "Error\n",
      "Error\n",
      "Error\n",
      "Error\n",
      "Error\n",
      "Error\n",
      "Error\n",
      "Error\n",
      "Error\n",
      "Error\n",
      "Error\n",
      "Error\n",
      "Error\n",
      "Error\n",
      "Error\n",
      "Error\n",
      "Error\n",
      "Error\n",
      "Error\n",
      "Error\n",
      "Error\n",
      "Error\n",
      "Error\n",
      "Error\n",
      "Error\n",
      "Error\n",
      "Error\n",
      "Error\n",
      "Error\n",
      "Error\n",
      "Error\n",
      "Error\n",
      "Error\n",
      "Error\n",
      "Error\n",
      "Error\n",
      "Error\n",
      "Error\n",
      "Error\n",
      "Error\n"
     ]
    },
    {
     "data": {
      "text/plain": [
       "95"
      ]
     },
     "execution_count": 58,
     "metadata": {},
     "output_type": "execute_result"
    }
   ],
   "source": [
    "k = 0\n",
    "for i in range(100):\n",
    "    sigma = ZZ.random_element(1,50)\n",
    "    shifts = [ZZ.random_element(-4,5) for i in range(m)]\n",
    "    A = Ms.random_element()\n",
    "    P,u, M = M_Basis(A,sigma, shift = shifts)\n",
    "    if (not P[-1].is_minimal_approximant_basis(A,sigma, shifts = shifts)):\n",
    "        print(\"Error\")\n",
    "        k += 1\n",
    "k"
   ]
  },
  {
   "cell_type": "code",
   "execution_count": 59,
   "id": "15f558a9",
   "metadata": {},
   "outputs": [
    {
     "data": {
      "text/plain": [
       "False"
      ]
     },
     "execution_count": 59,
     "metadata": {},
     "output_type": "execute_result"
    }
   ],
   "source": [
    "P[-1].is_reduced(shifts = shifts)"
   ]
  },
  {
   "cell_type": "code",
   "execution_count": null,
   "id": "148f16ba",
   "metadata": {},
   "outputs": [],
   "source": []
  },
  {
   "cell_type": "code",
   "execution_count": 67,
   "id": "ed7c94c7",
   "metadata": {},
   "outputs": [
    {
     "data": {
      "text/plain": [
       "[12, 12, 12, 12, 12, 12, 12, 12]"
      ]
     },
     "execution_count": 67,
     "metadata": {},
     "output_type": "execute_result"
    }
   ],
   "source": [
    "M[1].row_degrees(shifts = u[0])"
   ]
  },
  {
   "cell_type": "code",
   "execution_count": 69,
   "id": "e97b586f",
   "metadata": {},
   "outputs": [
    {
     "data": {
      "text/plain": [
       "(2, 2, 11, 4, 0, 0, 3, 0)"
      ]
     },
     "execution_count": 69,
     "metadata": {},
     "output_type": "execute_result"
    }
   ],
   "source": [
    "u[0]"
   ]
  },
  {
   "cell_type": "code",
   "execution_count": 62,
   "id": "6756f20f",
   "metadata": {},
   "outputs": [
    {
     "data": {
      "text/plain": [
       "[ 1 -1 -1 -1 -1 -1 -1 -1]\n",
       "[-1  1 -1 -1 -1 -1 -1 -1]\n",
       "[ 0  0  0 -1  0  0 -1  0]\n",
       "[ 0  0 -1  0  0  0 -1  0]\n",
       "[-1 -1 -1 -1  1 -1 -1 -1]\n",
       "[-1 -1 -1 -1 -1  1 -1 -1]\n",
       "[ 0  0 -1 -1  0  0  0  0]\n",
       "[-1 -1 -1 -1 -1 -1 -1  1]"
      ]
     },
     "execution_count": 62,
     "metadata": {},
     "output_type": "execute_result"
    }
   ],
   "source": [
    "M[1].degree_matrix()"
   ]
  },
  {
   "cell_type": "code",
   "execution_count": 65,
   "id": "9a580b1d",
   "metadata": {},
   "outputs": [
    {
     "data": {
      "text/plain": [
       "[ x  0  0  0  0  0  0  0]\n",
       "[ 0  x  0  0  0  0  0  0]\n",
       "[ 6  4  1  0 12  4  0  2]\n",
       "[12  4  0  1  4 11  0  1]\n",
       "[ 0  0  0  0  x  0  0  0]\n",
       "[ 0  0  0  0  0  x  0  0]\n",
       "[ 9  2  0  0  5 12  1  2]\n",
       "[ 0  0  0  0  0  0  0  x]"
      ]
     },
     "execution_count": 65,
     "metadata": {},
     "output_type": "execute_result"
    }
   ],
   "source": [
    "M[1]"
   ]
  },
  {
   "cell_type": "code",
   "execution_count": 76,
   "id": "1fb0104a",
   "metadata": {},
   "outputs": [
    {
     "data": {
      "text/plain": [
       "[12, 12, 12, 12, 12, 12, 12, 12]"
      ]
     },
     "execution_count": 76,
     "metadata": {},
     "output_type": "execute_result"
    }
   ],
   "source": [
    "M[1].row_degrees(u[0].list())"
   ]
  },
  {
   "cell_type": "code",
   "execution_count": 81,
   "id": "ba87980b",
   "metadata": {},
   "outputs": [],
   "source": [
    "L = M[1].shift(u[0].list(), row_wise = False)"
   ]
  },
  {
   "cell_type": "code",
   "execution_count": 82,
   "id": "33a5a273",
   "metadata": {},
   "outputs": [
    {
     "data": {
      "text/plain": [
       "[3, 3, 11, 4, 1, 1, 3, 1]"
      ]
     },
     "execution_count": 82,
     "metadata": {},
     "output_type": "execute_result"
    }
   ],
   "source": [
    "L.row_degrees()"
   ]
  },
  {
   "cell_type": "code",
   "execution_count": 83,
   "id": "63f2c0c2",
   "metadata": {},
   "outputs": [
    {
     "data": {
      "text/plain": [
       "[\n",
       "   [ x  0  0  0  0  0  0  0]  [x 0 0 0 0 0 0 0]\n",
       "   [ 0  x  0  0  0  0  0  0]  [0 x 0 0 0 0 0 0]\n",
       "   [ 6  4  1  0 12  4  0  2]  [1 6 1 0 9 3 0 7]\n",
       "   [12  4  0  1  4 11  0  1]  [4 8 0 1 0 8 0 8]\n",
       "   [ 0  0  0  0  x  0  0  0]  [0 0 0 0 x 0 0 0]\n",
       "   [ 0  0  0  0  0  x  0  0]  [0 0 0 0 0 x 0 0]\n",
       "   [ 9  2  0  0  5 12  1  2]  [1 4 0 0 8 0 1 3]\n",
       "0, [ 0  0  0  0  0  0  0  x], [0 0 0 0 0 0 0 x],\n",
       "\n",
       "[ x  0  0  0  0  0  0  0]  [ 1 12  0  3  4  4  0  4]\n",
       "[12  1  0  0  9  0  9  7]  [ 0  x  0  0  0  0  0  0]\n",
       "[ 9  0  1  0  7  2  8  7]  [ 0  3  1 12  3  5  0  9]\n",
       "[ 4  0  0  1  3  1  4  3]  [ 0  0  0  x  0  0  0  0]\n",
       "[ 0  0  0  0  x  0  0  0]  [ 0  0  0  0  x  0  0  0]\n",
       "[ 0  0  0  0  0  x  0  0]  [ 0  0  0  0  0  x  0  0]\n",
       "[ 0  0  0  0  0  0  x  0]  [ 0  6  0  1  3  7  1 12]\n",
       "[ 0  0  0  0  0  0  0  x], [ 0  0  0  0  0  0  0  x],\n",
       "\n",
       "[ x  0  0  0  0  0  0  0]  [ 1  7  0  6 12 11 10  0]\n",
       "[ 6  1  0  0  9  7 10  8]  [ 0  x  0  0  0  0  0  0]\n",
       "[ 1  0  1  0  5 12  3 12]  [ 0  1  1  3  8 10  4  0]\n",
       "[ 7  0  0  1  7  2 11  5]  [ 0  0  0  x  0  0  0  0]\n",
       "[ 0  0  0  0  x  0  0  0]  [ 0  0  0  0  x  0  0  0]\n",
       "[ 0  0  0  0  0  x  0  0]  [ 0  0  0  0  0  x  0  0]\n",
       "[ 0  0  0  0  0  0  x  0]  [ 0  0  0  0  0  0  x  0]\n",
       "[ 0  0  0  0  0  0  0  x], [ 0  2  0  3  1  4  1  1],\n",
       "\n",
       "[ x  0  0  0  0  0  0  0]  [ x  0  0  0  0  0  0  0]\n",
       "[ 0  x  0  0  0  0  0  0]  [ 0  x  0  0  0  0  0  0]\n",
       "[11 10  1 12  5  0  0  8]  [ 0  0  1  0  0  0  4  0]\n",
       "[ 0  0  0  x  0  0  0  0]  [ 2  0  0  1  0  9  4  8]\n",
       "[ 0  0  0  0  x  0  0  0]  [ 0  2  0  0  1  9 10 11]\n",
       "[ 3  5  0  3  2  1  0  0]  [ 0  0  0  0  0  x  0  0]\n",
       "[11  1  0  4  2  0  1  1]  [ 0  0  0  0  0  0  x  0]\n",
       "[ 0  0  0  0  0  0  0  x], [ 0  0  0  0  0  0  0  x],\n",
       "\n",
       "[ x  0  0  0  0  0  0  0]  [x 0 0 0 0 0 0 0]  [x 0 0 0 0 0 0 0]\n",
       "[ 0  x  0  0  0  0  0  0]  [0 x 0 0 0 0 0 0]  [0 x 0 0 0 0 0 0]\n",
       "[ 0  0  1  0  0  0  0  0]  [0 0 1 0 0 0 0 0]  [0 0 1 0 0 0 0 0]\n",
       "[ 0  0  0  1  0  0  0  0]  [0 0 0 1 0 0 0 0]  [0 0 0 1 0 0 0 0]\n",
       "[ 0  0  0  0  x  0  0  0]  [0 0 0 0 x 0 0 0]  [0 0 0 0 x 0 0 0]\n",
       "[ 0  0  0  0  0  x  0  0]  [0 0 0 0 0 x 0 0]  [0 0 0 0 0 x 0 0]\n",
       "[ 0  0  0  0 11  0  1  0]  [0 0 0 0 0 0 1 0]  [0 0 0 0 0 0 1 0]\n",
       "[ 0  0  0  0  0  0  0  x], [0 0 0 0 0 0 0 x], [0 0 0 0 0 0 0 x],\n",
       "\n",
       "[x 0 0 0 0 0 0 0]  [x 0 0 0 0 0 0 0]  [x 0 0 0 0 0 0 0]\n",
       "[0 x 0 0 0 0 0 0]  [0 x 0 0 0 0 0 0]  [0 x 0 0 0 0 0 0]\n",
       "[0 0 1 0 0 0 0 0]  [0 0 1 0 0 0 0 0]  [0 0 1 0 0 0 0 0]\n",
       "[0 0 0 1 0 0 0 0]  [0 0 0 1 0 0 0 0]  [0 0 0 1 0 0 0 0]\n",
       "[0 0 0 0 x 0 0 0]  [0 0 0 0 x 0 0 0]  [0 0 0 0 x 0 0 0]\n",
       "[0 0 0 0 0 x 0 0]  [0 0 0 0 0 x 0 0]  [0 0 0 0 0 x 0 0]\n",
       "[0 0 0 0 0 0 1 0]  [0 0 0 0 0 0 1 0]  [0 0 0 0 0 0 1 0]\n",
       "[0 0 0 0 0 0 0 x], [0 0 0 0 0 0 0 x], [0 0 0 0 0 0 0 x],\n",
       "\n",
       "[x 0 0 0 0 0 0 0]  [x 0 0 0 0 0 0 0]  [x 0 0 0 0 0 0 0]\n",
       "[0 x 0 0 0 0 0 0]  [0 x 0 0 0 0 0 0]  [0 x 0 0 0 0 0 0]\n",
       "[0 0 1 0 0 0 0 0]  [0 0 1 0 0 0 0 0]  [0 0 1 0 0 0 0 0]\n",
       "[0 0 0 1 0 0 0 0]  [0 0 0 1 0 0 0 0]  [0 0 0 1 0 0 0 0]\n",
       "[0 0 0 0 x 0 0 0]  [0 0 0 0 x 0 0 0]  [0 0 0 0 x 0 0 0]\n",
       "[0 0 0 0 0 x 0 0]  [0 0 0 0 0 x 0 0]  [0 0 0 0 0 x 0 0]\n",
       "[0 0 0 0 0 0 1 0]  [0 0 0 0 0 0 1 0]  [0 0 0 0 0 0 1 0]\n",
       "[0 0 0 0 0 0 0 x], [0 0 0 0 0 0 0 x], [0 0 0 0 0 0 0 x]\n",
       "]"
      ]
     },
     "execution_count": 83,
     "metadata": {},
     "output_type": "execute_result"
    }
   ],
   "source": [
    "M"
   ]
  },
  {
   "cell_type": "code",
   "execution_count": 85,
   "id": "336bdc20",
   "metadata": {},
   "outputs": [
    {
     "data": {
      "text/plain": [
       "[0, 1, 6, 3, 4, 5, 6, 7]"
      ]
     },
     "execution_count": 85,
     "metadata": {},
     "output_type": "execute_result"
    }
   ],
   "source": [
    "P[-1].leading_positions(shifts = shifts)"
   ]
  },
  {
   "cell_type": "code",
   "execution_count": null,
   "id": "d92f4dad",
   "metadata": {},
   "outputs": [],
   "source": []
  }
 ],
 "metadata": {
  "kernelspec": {
   "display_name": "SageMath 9.7.beta0",
   "language": "sage",
   "name": "sagemath"
  },
  "language_info": {
   "codemirror_mode": {
    "name": "ipython",
    "version": 3
   },
   "file_extension": ".py",
   "mimetype": "text/x-python",
   "name": "python",
   "nbconvert_exporter": "python",
   "pygments_lexer": "ipython3",
   "version": "3.10.3"
  }
 },
 "nbformat": 4,
 "nbformat_minor": 5
}
