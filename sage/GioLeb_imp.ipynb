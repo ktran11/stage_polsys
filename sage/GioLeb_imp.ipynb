{
 "cells": [
  {
   "cell_type": "code",
   "execution_count": 4,
   "id": "ebd4f8f1",
   "metadata": {},
   "outputs": [],
   "source": [
    "def create_permutation_matrix(s):\n",
    "    s = list(s)\n",
    "    def key(si):\n",
    "        return si[0]\n",
    "    s_p = [(si,i) for i,si in enumerate(s)]\n",
    "    s_p.sort(key = key)\n",
    "    l = len(s)\n",
    "    M = MatrixSpace(ZZ,l)\n",
    "    P = M([[0]*l]*l)\n",
    "    for i in range(l):\n",
    "        P[i,s_p[i][1]] = 1\n",
    "    return P"
   ]
  },
  {
   "cell_type": "code",
   "execution_count": 234,
   "id": "b18e7946",
   "metadata": {},
   "outputs": [],
   "source": [
    "def Basis(F0,s = None):\n",
    "    m,n = F0.dimensions()\n",
    "    if (s == None):\n",
    "        s = [0]*m\n",
    "\n",
    "    pi = create_permutation_matrix(s)\n",
    "    P,L,U = (pi*F0).LU()\n",
    "    r = U.rank()\n",
    "    Lr = L[:r,:r]\n",
    "    G = L[r:,:r]\n",
    "    K = F0.base_ring()\n",
    "    pR.<x> = K[]\n",
    "    Pinv = P.inverse_of_unit()\n",
    "    M = block_matrix(2,2,[[x,0],[-G*Lr.inverse(), 1]])*Pinv*pi\n",
    "    MS = MatrixSpace(ZZ,m)\n",
    "    u = MS(Pinv)*pi*vector(s) + vector([1]*r+[0]*(m-r))\n",
    "    return M,u"
   ]
  },
  {
   "cell_type": "code",
   "execution_count": 235,
   "id": "429b3550",
   "metadata": {},
   "outputs": [],
   "source": [
    "low_bound = -4\n",
    "high_bound = 5\n",
    "m = 4\n",
    "n = 2"
   ]
  },
  {
   "cell_type": "code",
   "execution_count": 236,
   "id": "b0726e7e",
   "metadata": {},
   "outputs": [],
   "source": [
    "s = [randint(low_bound, high_bound) for i in range(m)]"
   ]
  },
  {
   "cell_type": "code",
   "execution_count": null,
   "id": "24b6746c",
   "metadata": {},
   "outputs": [],
   "source": []
  },
  {
   "cell_type": "code",
   "execution_count": 249,
   "id": "0311188a",
   "metadata": {},
   "outputs": [],
   "source": [
    "pR.<x> = GF(97)[]"
   ]
  },
  {
   "cell_type": "code",
   "execution_count": 250,
   "id": "aed0aab3",
   "metadata": {},
   "outputs": [],
   "source": [
    "M = MatrixSpace(pR,m,n)"
   ]
  },
  {
   "cell_type": "code",
   "execution_count": 251,
   "id": "2452de7f",
   "metadata": {},
   "outputs": [],
   "source": [
    "A = M.random_element()"
   ]
  },
  {
   "cell_type": "code",
   "execution_count": 252,
   "id": "50ead38a",
   "metadata": {},
   "outputs": [],
   "source": [
    "B = Basis(A)[0]"
   ]
  },
  {
   "cell_type": "code",
   "execution_count": 253,
   "id": "b7f51e76",
   "metadata": {},
   "outputs": [
    {
     "data": {
      "text/plain": [
       "False"
      ]
     },
     "execution_count": 253,
     "metadata": {},
     "output_type": "execute_result"
    }
   ],
   "source": [
    "B.is_minimal_approximant_basis(A,1)"
   ]
  },
  {
   "cell_type": "code",
   "execution_count": 254,
   "id": "cb3efee1",
   "metadata": {},
   "outputs": [],
   "source": [
    "MB,u = Basis(A)"
   ]
  },
  {
   "cell_type": "code",
   "execution_count": 259,
   "id": "09000a5f",
   "metadata": {},
   "outputs": [],
   "source": [
    "def M_Basis(F,sigma,shift = None):\n",
    "    pR = F.base_ring()\n",
    "    x = pR.gen()\n",
    "    m,n = F.dimensions()\n",
    "    R = parent(F)\n",
    "    MS = MatrixSpace(pR,m)\n",
    "    if (shift == None):\n",
    "        shift = [0]*m\n",
    "    P,u = Basis(F.coefficient_matrix(0), shift)\n",
    "    for k in range(1,sigma):\n",
    "        F_prime = R(x^(-k)*MS(P)*F).coefficient_matrix(0)\n",
    "        M,u = Basis(F_prime, u)\n",
    "        P = M*P\n",
    "    return P,u"
   ]
  },
  {
   "cell_type": "code",
   "execution_count": 270,
   "id": "f43372cf",
   "metadata": {},
   "outputs": [],
   "source": [
    "M,u = M_Basis(A,3)"
   ]
  },
  {
   "cell_type": "code",
   "execution_count": 283,
   "id": "84a53696",
   "metadata": {},
   "outputs": [
    {
     "data": {
      "text/plain": [
       "False"
      ]
     },
     "execution_count": 283,
     "metadata": {},
     "output_type": "execute_result"
    }
   ],
   "source": [
    "M.is_minimal_approximant_basis(A,3)"
   ]
  },
  {
   "cell_type": "code",
   "execution_count": 286,
   "id": "eb22bbb8",
   "metadata": {},
   "outputs": [
    {
     "data": {
      "text/plain": [
       "True"
      ]
     },
     "execution_count": 286,
     "metadata": {},
     "output_type": "execute_result"
    }
   ],
   "source": [
    "M.is_reduced()"
   ]
  },
  {
   "cell_type": "code",
   "execution_count": null,
   "id": "db099666",
   "metadata": {},
   "outputs": [],
   "source": []
  }
 ],
 "metadata": {
  "kernelspec": {
   "display_name": "SageMath 9.7.beta0",
   "language": "sage",
   "name": "sagemath"
  },
  "language_info": {
   "codemirror_mode": {
    "name": "ipython",
    "version": 3
   },
   "file_extension": ".py",
   "mimetype": "text/x-python",
   "name": "python",
   "nbconvert_exporter": "python",
   "pygments_lexer": "ipython3",
   "version": "3.10.3"
  }
 },
 "nbformat": 4,
 "nbformat_minor": 5
}
