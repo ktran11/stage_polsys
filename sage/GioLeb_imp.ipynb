{
 "cells": [
  {
   "cell_type": "code",
   "execution_count": 1,
   "id": "61131e08",
   "metadata": {},
   "outputs": [],
   "source": [
    "%runfile utils/matrix_factorizations.sage"
   ]
  },
  {
   "cell_type": "code",
   "execution_count": null,
   "id": "69c93370",
   "metadata": {},
   "outputs": [],
   "source": []
  },
  {
   "cell_type": "code",
   "execution_count": 2,
   "id": "b82f06f2",
   "metadata": {},
   "outputs": [],
   "source": [
    "def create_permutation_matrix(shift):\n",
    "    s = copy(shift)\n",
    "    m = len(s)\n",
    "    A = list(list(zip(*sorted( [(s[i],i+1) for i in range(m)] )))[1])\n",
    "    Mn = MatrixSpace(ZZ,m,m)\n",
    "    \n",
    "    I = Mn.identity_matrix()\n",
    "    perm = Permutation(A)\n",
    "    return perm"
   ]
  },
  {
   "cell_type": "code",
   "execution_count": 3,
   "id": "cf3aa9e9",
   "metadata": {},
   "outputs": [],
   "source": [
    "def Basis(F0,s = None):\n",
    "    m,n = F0.dimensions()\n",
    "    if (s == None):\n",
    "        s = [0]*m\n",
    "\n",
    "    pi = create_permutation_matrix(s)\n",
    "    K,rrp, nrrp = PLUQ_to_left_kernel(F0.with_permuted_rows(pi))\n",
    "    r = m - K.nrows()\n",
    "    Mn = MatrixSpace(ZZ,m,m)\n",
    "    I = Mn.identity_matrix()\n",
    "    pi_mat = I.with_permuted_rows(pi)\n",
    "    P = Permutation([i+1 for i in rrp+nrrp]).inverse() \n",
    "    P_mat =  I.with_permuted_columns(P)\n",
    "    M = (P_mat*pi_mat).inverse_of_unit()*block_matrix([[x,0],[K,1]])*(P_mat*pi_mat)\n",
    "    u = (P_mat*pi_mat).inverse_of_unit()*((P_mat*pi_mat)*vector(s) + vector([1]*r+[0]*(m-r)))\n",
    "    return M,u"
   ]
  },
  {
   "cell_type": "code",
   "execution_count": null,
   "id": "028764e7",
   "metadata": {},
   "outputs": [],
   "source": []
  },
  {
   "cell_type": "code",
   "execution_count": 4,
   "id": "22ce1087",
   "metadata": {},
   "outputs": [],
   "source": [
    "m = 16\n",
    "n = 8\n",
    "F = GF(97)\n",
    "pR.<x> = F[]"
   ]
  },
  {
   "cell_type": "code",
   "execution_count": 5,
   "id": "aed0aab3",
   "metadata": {},
   "outputs": [],
   "source": [
    "M = MatrixSpace(F,m,n)\n",
    "Mm = MatrixSpace(F,m,n)\n",
    "\n",
    "MX = MatrixSpace(pR,m,m)"
   ]
  },
  {
   "cell_type": "code",
   "execution_count": 6,
   "id": "454f520d",
   "metadata": {},
   "outputs": [],
   "source": [
    "for i in range(100):\n",
    "    A = M.random_element() \n",
    "    shift = (ZZ^m).random_element()\n",
    "    B, new_shift= Basis(A,shift)\n",
    "    if (not B.is_minimal_approximant_basis(A,1,shift)):\n",
    "        print(\"error\")\n",
    "    if (list(new_shift) != B.row_degrees(shift)):\n",
    "        print(\"wrong shift\")"
   ]
  },
  {
   "cell_type": "code",
   "execution_count": 7,
   "id": "dbe42a03",
   "metadata": {},
   "outputs": [],
   "source": [
    "m = 8\n",
    "n = 5 \n",
    "F = GF(3)\n",
    "sigma = 5\n",
    "\n",
    "pR.<x> = F[]\n",
    "Ms = MatrixSpace(pR,m,n)\n",
    "Ms_n = MatrixSpace(pR,m,m)"
   ]
  },
  {
   "cell_type": "code",
   "execution_count": 8,
   "id": "09000a5f",
   "metadata": {},
   "outputs": [],
   "source": [
    "def M_Basis(F,sigma,shift = None):\n",
    "    pR = F.base_ring()\n",
    "    x = pR.gen()\n",
    "    m,n = F.dimensions()\n",
    "    R = parent(F)\n",
    "    if (shift == None):\n",
    "        shift = [0]*m\n",
    "        \n",
    "    P = [0]*sigma\n",
    "    u = [0]*sigma\n",
    "    M = [0]*sigma\n",
    "    P[0],u[0] = Basis(F.coefficient_matrix(0), shift)\n",
    "    for k in range(1,sigma):\n",
    "        F_prime = R(x^(-k)*P[k-1]*F).coefficient_matrix(0)\n",
    "        M[k],u[k] = Basis(F_prime, u[k-1])\n",
    "        P[k] = M[k]*P[k-1]\n",
    "    return P[-1], u[-1]"
   ]
  },
  {
   "cell_type": "code",
   "execution_count": 9,
   "id": "d087aea7",
   "metadata": {},
   "outputs": [],
   "source": [
    "for i in range(100):\n",
    "    A = Ms.random_element() \n",
    "    sigma = ZZ.random_element(1,10)\n",
    "    shift = (ZZ^m).random_element()\n",
    "    B, new_shift= M_Basis(A, sigma, shift)\n",
    "    if (not B.is_minimal_approximant_basis(A,sigma,shift)):\n",
    "        print(\"error\")"
   ]
  },
  {
   "cell_type": "code",
   "execution_count": 49,
   "id": "ab83f962",
   "metadata": {},
   "outputs": [],
   "source": [
    "def PM_Basis(F, sigma, shifts = None):\n",
    "    m,n = F.dimensions()\n",
    "    if (shifts == None):\n",
    "        shifts = [0]*m\n",
    "        \n",
    "    if sigma == 1:\n",
    "        return Basis(F.coefficient_matrix(0), shifts)\n",
    "    \n",
    "    print(\"F\", F)\n",
    "    Pl, ul = PM_Basis(F, floor(sigma/2), shifts)\n",
    "    print(\"Pl\", Pl)\n",
    "    F_prime = MP(Pl, F, floor(sigma/2) + 1, sigma)\n",
    "        \n",
    "    print(\"MP\", F_prime)\n",
    "    Ph, uh = PM_Basis(F_prime, ceil(sigma/2), ul)\n",
    "    print(\"Ph\", Ph)\n",
    "    return Ph*Pl, uh"
   ]
  },
  {
   "cell_type": "code",
   "execution_count": 50,
   "id": "c928ce15",
   "metadata": {},
   "outputs": [],
   "source": [
    "def MP(P, F, i, j):\n",
    "    D = P*F\n",
    "    R = parent(D)\n",
    "    pR = D.base_ring()\n",
    "    x = pR.gen()\n",
    "    m,n = D.dimensions()\n",
    "    for k in range(m):\n",
    "        for l in range(n):\n",
    "            P = D[k,l]\n",
    "            P = P.shift(-(i-1)) % x^(j-i+1)\n",
    "            D[k,l] = P\n",
    "    return D"
   ]
  },
  {
   "cell_type": "code",
   "execution_count": 42,
   "id": "123c88bd",
   "metadata": {},
   "outputs": [],
   "source": [
    "m = 6\n",
    "n = 3 \n",
    "F = GF(101)\n",
    "sigma = 3\n",
    "\n",
    "pR.<x> = F[]\n",
    "Ms = MatrixSpace(pR,m,n)\n",
    "Ms_n = MatrixSpace(pR,m,m)"
   ]
  },
  {
   "cell_type": "code",
   "execution_count": 32,
   "id": "70146eb0",
   "metadata": {},
   "outputs": [
    {
     "ename": "NameError",
     "evalue": "name 'printf' is not defined",
     "output_type": "error",
     "traceback": [
      "\u001b[1;31m---------------------------------------------------------------------------\u001b[0m",
      "\u001b[1;31mNameError\u001b[0m                                 Traceback (most recent call last)",
      "\u001b[1;32m/tmp/ipykernel_4903/338705535.py\u001b[0m in \u001b[0;36m<module>\u001b[1;34m\u001b[0m\n\u001b[0;32m      3\u001b[0m     \u001b[0msigma\u001b[0m \u001b[1;33m=\u001b[0m \u001b[0mZZ\u001b[0m\u001b[1;33m.\u001b[0m\u001b[0mrandom_element\u001b[0m\u001b[1;33m(\u001b[0m\u001b[0mInteger\u001b[0m\u001b[1;33m(\u001b[0m\u001b[1;36m1\u001b[0m\u001b[1;33m)\u001b[0m\u001b[1;33m,\u001b[0m\u001b[0mInteger\u001b[0m\u001b[1;33m(\u001b[0m\u001b[1;36m10\u001b[0m\u001b[1;33m)\u001b[0m\u001b[1;33m)\u001b[0m\u001b[1;33m\u001b[0m\u001b[1;33m\u001b[0m\u001b[0m\n\u001b[0;32m      4\u001b[0m     \u001b[0mshift\u001b[0m \u001b[1;33m=\u001b[0m \u001b[1;33m(\u001b[0m\u001b[0mZZ\u001b[0m\u001b[1;33m**\u001b[0m\u001b[0mm\u001b[0m\u001b[1;33m)\u001b[0m\u001b[1;33m.\u001b[0m\u001b[0mrandom_element\u001b[0m\u001b[1;33m(\u001b[0m\u001b[1;33m)\u001b[0m\u001b[1;33m\u001b[0m\u001b[1;33m\u001b[0m\u001b[0m\n\u001b[1;32m----> 5\u001b[1;33m     \u001b[0mB\u001b[0m\u001b[1;33m,\u001b[0m \u001b[0mnew_shift\u001b[0m\u001b[1;33m=\u001b[0m \u001b[0mPM_Basis\u001b[0m\u001b[1;33m(\u001b[0m\u001b[0mA\u001b[0m\u001b[1;33m,\u001b[0m \u001b[0msigma\u001b[0m\u001b[1;33m,\u001b[0m \u001b[0mshift\u001b[0m\u001b[1;33m)\u001b[0m\u001b[1;33m\u001b[0m\u001b[1;33m\u001b[0m\u001b[0m\n\u001b[0m\u001b[0;32m      6\u001b[0m     \u001b[1;32mif\u001b[0m \u001b[1;33m(\u001b[0m\u001b[1;32mnot\u001b[0m \u001b[0mB\u001b[0m\u001b[1;33m.\u001b[0m\u001b[0mis_minimal_approximant_basis\u001b[0m\u001b[1;33m(\u001b[0m\u001b[0mA\u001b[0m\u001b[1;33m,\u001b[0m\u001b[0msigma\u001b[0m\u001b[1;33m,\u001b[0m\u001b[0mshift\u001b[0m\u001b[1;33m)\u001b[0m\u001b[1;33m)\u001b[0m\u001b[1;33m:\u001b[0m\u001b[1;33m\u001b[0m\u001b[1;33m\u001b[0m\u001b[0m\n\u001b[0;32m      7\u001b[0m         \u001b[0mprint\u001b[0m\u001b[1;33m(\u001b[0m\u001b[1;34m\"error\"\u001b[0m\u001b[1;33m)\u001b[0m\u001b[1;33m\u001b[0m\u001b[1;33m\u001b[0m\u001b[0m\n",
      "\u001b[1;32m/tmp/ipykernel_4903/3363662123.py\u001b[0m in \u001b[0;36mPM_Basis\u001b[1;34m(F, sigma, shifts)\u001b[0m\n\u001b[0;32m      7\u001b[0m         \u001b[1;32mreturn\u001b[0m \u001b[0mBasis\u001b[0m\u001b[1;33m(\u001b[0m\u001b[0mF\u001b[0m\u001b[1;33m.\u001b[0m\u001b[0mcoefficient_matrix\u001b[0m\u001b[1;33m(\u001b[0m\u001b[0mInteger\u001b[0m\u001b[1;33m(\u001b[0m\u001b[1;36m0\u001b[0m\u001b[1;33m)\u001b[0m\u001b[1;33m)\u001b[0m\u001b[1;33m,\u001b[0m \u001b[0mshifts\u001b[0m\u001b[1;33m)\u001b[0m\u001b[1;33m\u001b[0m\u001b[1;33m\u001b[0m\u001b[0m\n\u001b[0;32m      8\u001b[0m \u001b[1;33m\u001b[0m\u001b[0m\n\u001b[1;32m----> 9\u001b[1;33m     \u001b[0mPl\u001b[0m\u001b[1;33m,\u001b[0m \u001b[0mul\u001b[0m \u001b[1;33m=\u001b[0m \u001b[0mPM_Basis\u001b[0m\u001b[1;33m(\u001b[0m\u001b[0mF\u001b[0m\u001b[1;33m,\u001b[0m \u001b[0mfloor\u001b[0m\u001b[1;33m(\u001b[0m\u001b[0msigma\u001b[0m\u001b[1;33m/\u001b[0m\u001b[0mInteger\u001b[0m\u001b[1;33m(\u001b[0m\u001b[1;36m2\u001b[0m\u001b[1;33m)\u001b[0m\u001b[1;33m)\u001b[0m\u001b[1;33m,\u001b[0m \u001b[0mshifts\u001b[0m\u001b[1;33m)\u001b[0m\u001b[1;33m\u001b[0m\u001b[1;33m\u001b[0m\u001b[0m\n\u001b[0m\u001b[0;32m     10\u001b[0m     \u001b[0mF_prime\u001b[0m \u001b[1;33m=\u001b[0m \u001b[0mMP\u001b[0m\u001b[1;33m(\u001b[0m\u001b[0mPl\u001b[0m\u001b[1;33m,\u001b[0m \u001b[0mF\u001b[0m\u001b[1;33m,\u001b[0m \u001b[0mfloor\u001b[0m\u001b[1;33m(\u001b[0m\u001b[0msigma\u001b[0m\u001b[1;33m/\u001b[0m\u001b[0mInteger\u001b[0m\u001b[1;33m(\u001b[0m\u001b[1;36m2\u001b[0m\u001b[1;33m)\u001b[0m\u001b[1;33m)\u001b[0m \u001b[1;33m+\u001b[0m \u001b[0mInteger\u001b[0m\u001b[1;33m(\u001b[0m\u001b[1;36m1\u001b[0m\u001b[1;33m)\u001b[0m\u001b[1;33m,\u001b[0m \u001b[0msigma\u001b[0m\u001b[1;33m)\u001b[0m\u001b[1;33m\u001b[0m\u001b[1;33m\u001b[0m\u001b[0m\n\u001b[0;32m     11\u001b[0m     \u001b[0mprintf\u001b[0m\u001b[1;33m(\u001b[0m\u001b[0mfloor\u001b[0m\u001b[1;33m(\u001b[0m\u001b[0msigma\u001b[0m\u001b[1;33m/\u001b[0m\u001b[0mInteger\u001b[0m\u001b[1;33m(\u001b[0m\u001b[1;36m2\u001b[0m\u001b[1;33m)\u001b[0m\u001b[1;33m)\u001b[0m \u001b[1;33m+\u001b[0m \u001b[0mInteger\u001b[0m\u001b[1;33m(\u001b[0m\u001b[1;36m1\u001b[0m\u001b[1;33m)\u001b[0m\u001b[1;33m,\u001b[0m \u001b[0msigma\u001b[0m\u001b[1;33m)\u001b[0m\u001b[1;33m\u001b[0m\u001b[1;33m\u001b[0m\u001b[0m\n",
      "\u001b[1;32m/tmp/ipykernel_4903/3363662123.py\u001b[0m in \u001b[0;36mPM_Basis\u001b[1;34m(F, sigma, shifts)\u001b[0m\n\u001b[0;32m      9\u001b[0m     \u001b[0mPl\u001b[0m\u001b[1;33m,\u001b[0m \u001b[0mul\u001b[0m \u001b[1;33m=\u001b[0m \u001b[0mPM_Basis\u001b[0m\u001b[1;33m(\u001b[0m\u001b[0mF\u001b[0m\u001b[1;33m,\u001b[0m \u001b[0mfloor\u001b[0m\u001b[1;33m(\u001b[0m\u001b[0msigma\u001b[0m\u001b[1;33m/\u001b[0m\u001b[0mInteger\u001b[0m\u001b[1;33m(\u001b[0m\u001b[1;36m2\u001b[0m\u001b[1;33m)\u001b[0m\u001b[1;33m)\u001b[0m\u001b[1;33m,\u001b[0m \u001b[0mshifts\u001b[0m\u001b[1;33m)\u001b[0m\u001b[1;33m\u001b[0m\u001b[1;33m\u001b[0m\u001b[0m\n\u001b[0;32m     10\u001b[0m     \u001b[0mF_prime\u001b[0m \u001b[1;33m=\u001b[0m \u001b[0mMP\u001b[0m\u001b[1;33m(\u001b[0m\u001b[0mPl\u001b[0m\u001b[1;33m,\u001b[0m \u001b[0mF\u001b[0m\u001b[1;33m,\u001b[0m \u001b[0mfloor\u001b[0m\u001b[1;33m(\u001b[0m\u001b[0msigma\u001b[0m\u001b[1;33m/\u001b[0m\u001b[0mInteger\u001b[0m\u001b[1;33m(\u001b[0m\u001b[1;36m2\u001b[0m\u001b[1;33m)\u001b[0m\u001b[1;33m)\u001b[0m \u001b[1;33m+\u001b[0m \u001b[0mInteger\u001b[0m\u001b[1;33m(\u001b[0m\u001b[1;36m1\u001b[0m\u001b[1;33m)\u001b[0m\u001b[1;33m,\u001b[0m \u001b[0msigma\u001b[0m\u001b[1;33m)\u001b[0m\u001b[1;33m\u001b[0m\u001b[1;33m\u001b[0m\u001b[0m\n\u001b[1;32m---> 11\u001b[1;33m     \u001b[0mprintf\u001b[0m\u001b[1;33m(\u001b[0m\u001b[0mfloor\u001b[0m\u001b[1;33m(\u001b[0m\u001b[0msigma\u001b[0m\u001b[1;33m/\u001b[0m\u001b[0mInteger\u001b[0m\u001b[1;33m(\u001b[0m\u001b[1;36m2\u001b[0m\u001b[1;33m)\u001b[0m\u001b[1;33m)\u001b[0m \u001b[1;33m+\u001b[0m \u001b[0mInteger\u001b[0m\u001b[1;33m(\u001b[0m\u001b[1;36m1\u001b[0m\u001b[1;33m)\u001b[0m\u001b[1;33m,\u001b[0m \u001b[0msigma\u001b[0m\u001b[1;33m)\u001b[0m\u001b[1;33m\u001b[0m\u001b[1;33m\u001b[0m\u001b[0m\n\u001b[0m\u001b[0;32m     12\u001b[0m     \u001b[0mprint\u001b[0m\u001b[1;33m(\u001b[0m\u001b[0mF_prime\u001b[0m\u001b[1;33m)\u001b[0m\u001b[1;33m\u001b[0m\u001b[1;33m\u001b[0m\u001b[0m\n\u001b[0;32m     13\u001b[0m     \u001b[0mPh\u001b[0m\u001b[1;33m,\u001b[0m \u001b[0muh\u001b[0m \u001b[1;33m=\u001b[0m \u001b[0mPM_Basis\u001b[0m\u001b[1;33m(\u001b[0m\u001b[0mF_prime\u001b[0m\u001b[1;33m,\u001b[0m \u001b[0mceil\u001b[0m\u001b[1;33m(\u001b[0m\u001b[0msigma\u001b[0m\u001b[1;33m/\u001b[0m\u001b[0mInteger\u001b[0m\u001b[1;33m(\u001b[0m\u001b[1;36m2\u001b[0m\u001b[1;33m)\u001b[0m\u001b[1;33m)\u001b[0m\u001b[1;33m,\u001b[0m \u001b[0mul\u001b[0m\u001b[1;33m)\u001b[0m\u001b[1;33m\u001b[0m\u001b[1;33m\u001b[0m\u001b[0m\n",
      "\u001b[1;31mNameError\u001b[0m: name 'printf' is not defined"
     ]
    }
   ],
   "source": [
    "for i in range(100):\n",
    "    A = Ms.random_element() \n",
    "    sigma = ZZ.random_element(1,10)\n",
    "    shift = (ZZ^m).random_element()\n",
    "    B, new_shift= PM_Basis(A, sigma, shift)\n",
    "    if (not B.is_minimal_approximant_basis(A,sigma,shift)):\n",
    "        print(\"error\")"
   ]
  },
  {
   "cell_type": "code",
   "execution_count": 33,
   "id": "fb6650b5",
   "metadata": {},
   "outputs": [],
   "source": [
    "A = Ms( [[49 +49*x^1 + 86*x^2,55 +2*x^1 + 2*x^2,6 +60*x^1 + 80*x^2],\n",
    "[13 +87*x^1 + 6*x^2,51 +31*x^1 + 1*x^2,52],\n",
    "[44 +15*x^1 + 34*x^2,0 +0*x^1 + 76*x^2,78 +28*x^1 + 99*x^2],\n",
    "[39 +55*x^1 + 3*x^2,80 +92*x^1 + 28*x^2,27 +93*x^1 + 79*x^2],\n",
    "[3 +26*x^1 + 81*x^2,8 +62*x^1 + 3*x^2,47 +78*x^1 + 27*x^2],\n",
    "[14 +15*x^1 + 79*x^2,0 +0*x^1 + 70*x^2,27 +61*x^1 + 88*x^2]]\n",
    ")\n",
    "\n",
    "B= Ms_n([[0 +41*x^1 + 1*x^2,0 +36*x^1,0 +35*x^1,0 +34*x^1,0 +45*x^1,0 +56*x^1],\n",
    "[0 +80*x^1,0 +43*x^1 + 1*x^2,0 +29*x^1,0 +5*x^1,0 +98*x^1,0 +59*x^1],\n",
    "[0 +45*x^1,0 +48*x^1,0 +38*x^1 + 1*x^2,0 +62*x^1,0 +65*x^1,0 +69*x^1],\n",
    "[91 +68*x^1,24 +17*x^1,77 +66*x^1,85 +1*x^1,0, 75],\n",
    "[60 +90*x^1,18 +37*x^1,23 +88*x^1,19,15 +1*x^1,20],\n",
    "[31 +16*x^1,68 +4*x^1,81 +45*x^1,66,19,64 +1*x^1]])\n",
    "\n"
   ]
  },
  {
   "cell_type": "code",
   "execution_count": 43,
   "id": "9c92472b",
   "metadata": {},
   "outputs": [],
   "source": [
    "P,u = M_Basis(A, 3)"
   ]
  },
  {
   "cell_type": "code",
   "execution_count": 44,
   "id": "70179d96",
   "metadata": {},
   "outputs": [
    {
     "data": {
      "text/plain": [
       "True"
      ]
     },
     "execution_count": 44,
     "metadata": {},
     "output_type": "execute_result"
    }
   ],
   "source": [
    "B == P"
   ]
  },
  {
   "cell_type": "code",
   "execution_count": 51,
   "id": "6c1b1a38",
   "metadata": {},
   "outputs": [
    {
     "name": "stdout",
     "output_type": "stream",
     "text": [
      "F [86*x^2 + 49*x + 49   2*x^2 + 2*x + 55  80*x^2 + 60*x + 6]\n",
      "[ 6*x^2 + 87*x + 13    x^2 + 31*x + 51                 52]\n",
      "[34*x^2 + 15*x + 44             76*x^2 99*x^2 + 28*x + 78]\n",
      "[ 3*x^2 + 55*x + 39 28*x^2 + 92*x + 80 79*x^2 + 93*x + 27]\n",
      "[ 81*x^2 + 26*x + 3   3*x^2 + 62*x + 8 27*x^2 + 78*x + 47]\n",
      "[79*x^2 + 15*x + 14             70*x^2 88*x^2 + 61*x + 27]\n",
      "Pl [ x  0  0  0  0  0]\n",
      "[ 0  x  0  0  0  0]\n",
      "[ 0  0  x  0  0  0]\n",
      "[71  9 62  1  0  0]\n",
      "[35 73 84  0  1  0]\n",
      "[81 79 56  0  0  1]\n",
      "MP [49*x + 49  2*x + 55  60*x + 6]\n",
      "[87*x + 13 31*x + 51        52]\n",
      "[15*x + 44         0 28*x + 78]\n",
      "[90*x + 96  43*x + 8 80*x + 29]\n",
      "[22*x + 60 66*x + 72 33*x + 86]\n",
      "[30*x + 82 22*x + 86 93*x + 25]\n",
      "F [49*x + 49  2*x + 55  60*x + 6]\n",
      "[87*x + 13 31*x + 51        52]\n",
      "[15*x + 44         0 28*x + 78]\n",
      "[90*x + 96  43*x + 8 80*x + 29]\n",
      "[22*x + 60 66*x + 72 33*x + 86]\n",
      "[30*x + 82 22*x + 86 93*x + 25]\n",
      "Pl [ 1  0  0 34 45 56]\n",
      "[ 0  1  0  5 98 59]\n",
      "[ 0  0  1 62 65 69]\n",
      "[ 0  0  0  x  0  0]\n",
      "[ 0  0  0  0  x  0]\n",
      "[ 0  0  0  0  0  x]\n",
      "MP [22 10 80]\n",
      "[19 33 31]\n",
      "[ 5 91 16]\n",
      "[96  8 29]\n",
      "[60 72 86]\n",
      "[82 86 25]\n",
      "Ph [ x  0  0  0  0  0]\n",
      "[ 0  x  0  0  0  0]\n",
      "[ 0  0  x  0  0  0]\n",
      "[98  8  4  1  0  0]\n",
      "[55 65  4  0  1  0]\n",
      "[36 26 90  0  0  1]\n",
      "Ph [     x      0      0   34*x   45*x   56*x]\n",
      "[     0      x      0    5*x   98*x   59*x]\n",
      "[     0      0      x   62*x   65*x   69*x]\n",
      "[    98      8      4 x + 85      0     75]\n",
      "[    55     65      4     19 x + 15     20]\n",
      "[    36     26     90     66     19 x + 64]\n"
     ]
    },
    {
     "data": {
      "text/plain": [
       "(\n",
       "[x^2 + 41*x       36*x       35*x       34*x       45*x       56*x]\n",
       "[      80*x x^2 + 43*x       29*x        5*x       98*x       59*x]\n",
       "[      45*x       48*x x^2 + 38*x       62*x       65*x       69*x]\n",
       "[ 68*x + 91  17*x + 24  66*x + 77     x + 85          0         75]\n",
       "[ 90*x + 60  37*x + 18  88*x + 23         19     x + 15         20]\n",
       "[ 16*x + 31   4*x + 68  45*x + 81         66         19     x + 64],\n",
       "\n",
       "(2, 2, 2, 1, 1, 1)\n",
       ")"
      ]
     },
     "execution_count": 51,
     "metadata": {},
     "output_type": "execute_result"
    }
   ],
   "source": [
    "PM_Basis(A,3)"
   ]
  },
  {
   "cell_type": "code",
   "execution_count": 46,
   "id": "3303be76",
   "metadata": {},
   "outputs": [
    {
     "data": {
      "text/plain": [
       "2"
      ]
     },
     "execution_count": 46,
     "metadata": {},
     "output_type": "execute_result"
    }
   ],
   "source": [
    "ceil(3/2)"
   ]
  },
  {
   "cell_type": "code",
   "execution_count": null,
   "id": "2bd17d26",
   "metadata": {},
   "outputs": [],
   "source": []
  }
 ],
 "metadata": {
  "kernelspec": {
   "display_name": "SageMath 9.7.beta0",
   "language": "sage",
   "name": "sagemath"
  },
  "language_info": {
   "codemirror_mode": {
    "name": "ipython",
    "version": 3
   },
   "file_extension": ".py",
   "mimetype": "text/x-python",
   "name": "python",
   "nbconvert_exporter": "python",
   "pygments_lexer": "ipython3",
   "version": "3.10.3"
  }
 },
 "nbformat": 4,
 "nbformat_minor": 5
}
