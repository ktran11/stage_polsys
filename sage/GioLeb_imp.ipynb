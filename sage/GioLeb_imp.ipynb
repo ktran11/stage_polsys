{
 "cells": [
  {
   "cell_type": "code",
   "execution_count": 4,
   "id": "ebd4f8f1",
   "metadata": {},
   "outputs": [],
   "source": [
    "def create_permutation_matrix(s):\n",
    "    s = list(s)\n",
    "    def key(si):\n",
    "        return si[0]\n",
    "    s_p = [(si,i) for i,si in enumerate(s)]\n",
    "    s_p.sort(key = key)\n",
    "    l = len(s)\n",
    "    M = MatrixSpace(ZZ,l)\n",
    "    P = M([[0]*l]*l)\n",
    "    for i in range(l):\n",
    "        P[i,s_p[i][1]] = 1\n",
    "    return P"
   ]
  },
  {
   "cell_type": "code",
   "execution_count": 139,
   "id": "b18e7946",
   "metadata": {},
   "outputs": [],
   "source": [
    "def Basis(F0,s = None):\n",
    "    m,n = F0.dimensions()\n",
    "    if (s == None):\n",
    "        s = [0]*n\n",
    "        \n",
    "    pi = create_permutation_matrix(s)\n",
    "    P,L,U = (pi*F0).LU()\n",
    "    r = U.rank()\n",
    "    Lr = L[:r,:r]\n",
    "    G = L[r:,:r]\n",
    "    K = F0.base_ring()\n",
    "    pR.<x> = K[]\n",
    "    Pinv = P.inverse()\n",
    "    M = block_matrix(2,2,[[x,0],[-G*Lr.inverse(), 1]])*Pinv*pi\n",
    "    MS = MatrixSpace(ZZ,m)\n",
    "    u = MS(Pinv)*pi*vector(s) + vector([1]*r+[0]*(m-r))\n",
    "    return M,u"
   ]
  },
  {
   "cell_type": "code",
   "execution_count": null,
   "id": "e0477ada",
   "metadata": {},
   "outputs": [],
   "source": []
  },
  {
   "cell_type": "code",
   "execution_count": 140,
   "id": "595e70c5",
   "metadata": {},
   "outputs": [],
   "source": [
    "low_bound = -4\n",
    "high_bound = 5\n",
    "m = 10\n",
    "n = 5"
   ]
  },
  {
   "cell_type": "code",
   "execution_count": 141,
   "id": "b0726e7e",
   "metadata": {},
   "outputs": [],
   "source": [
    "s = [randint(low_bound, high_bound) for i in range(m)]"
   ]
  },
  {
   "cell_type": "code",
   "execution_count": 142,
   "id": "aed0aab3",
   "metadata": {},
   "outputs": [],
   "source": [
    "M = MatrixSpace(GF(7),m,n)"
   ]
  },
  {
   "cell_type": "code",
   "execution_count": 143,
   "id": "2452de7f",
   "metadata": {},
   "outputs": [],
   "source": [
    "A = M.random_element()"
   ]
  },
  {
   "cell_type": "code",
   "execution_count": 145,
   "id": "cb3efee1",
   "metadata": {},
   "outputs": [],
   "source": [
    "MB,u  =Basis(A,s)"
   ]
  },
  {
   "cell_type": "code",
   "execution_count": null,
   "id": "c71deee3",
   "metadata": {},
   "outputs": [],
   "source": []
  },
  {
   "cell_type": "code",
   "execution_count": null,
   "id": "09000a5f",
   "metadata": {},
   "outputs": [],
   "source": []
  }
 ],
 "metadata": {
  "kernelspec": {
   "display_name": "SageMath 9.7.beta0",
   "language": "sage",
   "name": "sagemath"
  },
  "language_info": {
   "codemirror_mode": {
    "name": "ipython",
    "version": 3
   },
   "file_extension": ".py",
   "mimetype": "text/x-python",
   "name": "python",
   "nbconvert_exporter": "python",
   "pygments_lexer": "ipython3",
   "version": "3.10.3"
  }
 },
 "nbformat": 4,
 "nbformat_minor": 5
}
