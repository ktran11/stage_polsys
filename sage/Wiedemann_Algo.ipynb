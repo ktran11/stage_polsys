{
 "cells": [
  {
   "cell_type": "markdown",
   "metadata": {},
   "source": [
    "# Wiedemann"
   ]
  },
  {
   "cell_type": "code",
   "execution_count": 2,
   "metadata": {},
   "outputs": [],
   "source": [
    "def suite_kyrlov(A,v):\n",
    "    # on pourrait améliorer le range pour calculer moins de colonnes..\n",
    "    n = A.dimensions()[0]\n",
    "    Avt = A*v\n",
    "    B = v\n",
    "    Q = Avt\n",
    "    for i in range(ceil(log(n,2))):\n",
    "        A = A^2\n",
    "        B = block_matrix(1,2,[B,Q])\n",
    "        Q = A*B\n",
    "    return block_matrix(1,2,[B,Q])"
   ]
  },
  {
   "cell_type": "code",
   "execution_count": 3,
   "metadata": {},
   "outputs": [],
   "source": [
    "def Pade_approx(A,B,k):\n",
    "    R0 = A\n",
    "    U0 = 1\n",
    "    V0 = 0\n",
    "    R1 = B\n",
    "    U1 = 0\n",
    "    V1 = 1\n",
    "    while (R0.degree() >= k):\n",
    "        Q1 = R0//R1\n",
    "        R0,R1 = R1, R0%R1\n",
    "        U0,U1 = U1, U0 - Q1*U1\n",
    "        V0,V1 = V1, V0 - Q1*V1\n",
    "    if (gcd (A,V1) == 1):\n",
    "        return (R0//V0(0),V0//V0(0))\n",
    "    return 0"
   ]
  },
  {
   "cell_type": "code",
   "execution_count": 4,
   "metadata": {},
   "outputs": [],
   "source": [
    "def Berlekamp_Massey(A):\n",
    "    K = parent(A[0])\n",
    "    pR.<x> = K[]\n",
    "    Pa = pR(A)\n",
    "    N = Pa.degree()\n",
    "    R,V = Pade_approx(x^N,Pa,floor(N/2))\n",
    "    return V.reverse()"
   ]
  },
  {
   "cell_type": "code",
   "execution_count": 5,
   "metadata": {},
   "outputs": [],
   "source": [
    "def Wiedemann(A):\n",
    "    n = A.dimensions()[0]\n",
    "    K = A.base_ring()\n",
    "    V = K^n\n",
    "    u = matrix(V.random_element())\n",
    "    r = matrix(V.random_element()).transpose()\n",
    "    R = suite_kyrlov(A,r)\n",
    "    N = [(u*ri)[0] for ri in R.transpose()[:2*n+1]]\n",
    "    return Berlekamp_Massey(N)"
   ]
  },
  {
   "cell_type": "code",
   "execution_count": 6,
   "metadata": {},
   "outputs": [],
   "source": [
    "K = GF(next_prime(300))\n",
    "D = 10\n",
    "\n",
    "M = MatrixSpace(K,D)\n",
    "\n",
    "A = M.random_element()"
   ]
  },
  {
   "cell_type": "code",
   "execution_count": 7,
   "metadata": {},
   "outputs": [],
   "source": [
    "muA = A.minimal_polynomial()"
   ]
  },
  {
   "cell_type": "code",
   "execution_count": 8,
   "metadata": {},
   "outputs": [],
   "source": [
    "P = Wiedemann(A)"
   ]
  },
  {
   "cell_type": "code",
   "execution_count": 9,
   "metadata": {},
   "outputs": [
    {
     "data": {
      "text/plain": [
       "True"
      ]
     },
     "execution_count": 9,
     "metadata": {},
     "output_type": "execute_result"
    }
   ],
   "source": [
    "P == muA"
   ]
  },
  {
   "cell_type": "code",
   "execution_count": 10,
   "metadata": {},
   "outputs": [
    {
     "data": {
      "text/plain": [
       "0"
      ]
     },
     "execution_count": 10,
     "metadata": {},
     "output_type": "execute_result"
    }
   ],
   "source": [
    "muA%P"
   ]
  },
  {
   "cell_type": "markdown",
   "metadata": {},
   "source": [
    "# Block Wiedemann"
   ]
  },
  {
   "cell_type": "code",
   "execution_count": 20,
   "metadata": {},
   "outputs": [],
   "source": [
    "D = 10\n",
    "m = 4\n",
    "M = MatrixSpace(K,D)\n"
   ]
  },
  {
   "cell_type": "code",
   "execution_count": 21,
   "metadata": {},
   "outputs": [],
   "source": [
    "A = M.random_element()"
   ]
  },
  {
   "cell_type": "markdown",
   "metadata": {},
   "source": [
    "### inverse modulo $x^d$"
   ]
  },
  {
   "cell_type": "code",
   "execution_count": 22,
   "metadata": {},
   "outputs": [],
   "source": [
    "def inv_x_d(M,d):\n",
    "    parentM = parent(M)\n",
    "    n = M.dimensions()[0]\n",
    "    K = M.base_ring().base()\n",
    "    MS.<y> = PolynomialRing(MatrixSpace(K,n))\n",
    "    \n",
    "    \n",
    "    Mpol = sum([M.coefficient_matrix(i)*y^i for i in range(1+M.degree())])\n",
    "    pR.<x> = K[]\n",
    "    l  = Mpol.inverse_series_trunc(d)(x)\n",
    "    return parentM(l)"
   ]
  },
  {
   "cell_type": "markdown",
   "metadata": {},
   "source": [
    "## weak Popov form to Popov form"
   ]
  },
  {
   "cell_type": "code",
   "execution_count": 23,
   "metadata": {},
   "outputs": [],
   "source": [
    "def monic_pivot(M):\n",
    "    n = M.dimensions()[0]\n",
    "    lead_pos = M.leading_positions()\n",
    "    return Matrix([(M[i,lead_pos[i]].lc()^(-1)*M[i]).list() for i in range(n)])\n",
    "\n",
    "def ascending_transformation(M):\n",
    "    I = M.leading_positions()\n",
    "    row_ind = [(i,j,I[i]) for i,j in enumerate(M.row_degrees())]\n",
    "    \n",
    "    def pair_order(a):\n",
    "        return a[1]+a[2]*10^(-1)\n",
    "    \n",
    "    return matrix([M[i] for i,j,k in sorted(row_ind,key = pair_order)])\n",
    "\n",
    "def simple_transformation(M,k,l):\n",
    "    x = parent(M[0,0]).gen()\n",
    "    I_k = M.leading_positions()[k]\n",
    "    while(True):\n",
    "        P_k = M[k,I_k]\n",
    "        mon = M[l,I_k]\n",
    "        deg_P,deg_m = P_k.degree(), mon.degree()\n",
    "        if (deg_P > deg_m):\n",
    "            return M\n",
    "        coef_P,coef_m = P_k.lc(), mon.lc()\n",
    "\n",
    "        c = coef_m * coef_P^(-1)\n",
    "        e = deg_m-deg_P\n",
    "        M[l] = M[l] - c*x^e*M[k]\n",
    "\n",
    "def popov_sage(M):\n",
    "    I = M.leading_positions()\n",
    "    row_ind = [(i,j) for i,j in enumerate(I)]\n",
    "    \n",
    "    def pair_order(a):\n",
    "        return a[1]\n",
    "    \n",
    "    return matrix([M[i] for i,j in sorted(row_ind,key = pair_order)])        \n",
    "\n",
    "def weak_to_popov(M):\n",
    "    if not(M.is_weak_popov()):\n",
    "        M = M.weak_popov_form()\n",
    "    A = ascending_transformation(M)\n",
    "    n = A.dimensions()[0]\n",
    "    I = A.leading_positions()\n",
    "    D = [A[i,j].degree() for i,j in enumerate(I)]\n",
    "    \n",
    "    for k in range(n):\n",
    "        if (I[k] != -1):\n",
    "            for l in range(k+1,n):\n",
    "                    if (A[l,I[k]].degree() - D[k] >= 0):\n",
    "                        A = simple_transformation(A,k,l)\n",
    "    return popov_sage(monic_pivot(A))"
   ]
  },
  {
   "cell_type": "code",
   "execution_count": 30,
   "metadata": {},
   "outputs": [],
   "source": [
    "def Block_Wiedemann(A):\n",
    "    D = A.dimensions()[0]\n",
    "    K = A.base_ring()\n",
    "    Mvect = MatrixSpace(K,m,D)\n",
    "    \n",
    "    U = Mvect.random_element()\n",
    "    V = Mvect.random_element().transpose()\n",
    "    \n",
    "    R = suite_kyrlov(A,V)\n",
    "    P = ceil(2*D/m)\n",
    "    print(R.dimensions(), P)\n",
    "    S = [U*R[:,k:k+m] for k in range(0,m*P,m)]\n",
    "    pR.<x> = K[]\n",
    "    S = sum([S[i]*x^i for i in range(len(S))])\n",
    "\n",
    "    Mat = block_matrix(2,2,[[1,S.reverse(degree=P-1)],[0,x^P]])\n",
    "    return Mat,S.reverse(degree = P-1),P\n",
    "    popov_Mat = Mat.weak_popov_form(ordered = True)\n",
    "    print(popov_Mat.degree_matrix())\n",
    "    print(popov_Mat.leading_positions())\n",
    "    L,R = popov_Mat[:m,:m], popov_Mat[m:,m:]\n",
    "    \n",
    "    Linv = inv_x_d(L,P)\n",
    "    return L,Linv, R,S"
   ]
  },
  {
   "cell_type": "code",
   "execution_count": 31,
   "metadata": {},
   "outputs": [
    {
     "name": "stdout",
     "output_type": "stream",
     "text": [
      "(10, 128) 5\n"
     ]
    }
   ],
   "source": [
    "Mat,S,P =  Block_Wiedemann(A)"
   ]
  },
  {
   "cell_type": "code",
   "execution_count": 50,
   "metadata": {},
   "outputs": [],
   "source": [
    "G = block_matrix([[S],[-1]])"
   ]
  },
  {
   "cell_type": "code",
   "execution_count": 57,
   "metadata": {},
   "outputs": [],
   "source": [
    "A = G.minimal_approximant_basis(P)"
   ]
  },
  {
   "cell_type": "code",
   "execution_count": 42,
   "metadata": {},
   "outputs": [
    {
     "data": {
      "text/plain": [
       "x^30 + 292*x^29 + x^28 + 73*x^27 + 114*x^26 + 192*x^25 + 147*x^24 + 26*x^23 + 201*x^22 + 250*x^21 + 266*x^20 + 168*x^19 + 171*x^18 + 134*x^17 + 71*x^16 + 301*x^15 + 133*x^14 + 197*x^13 + 267*x^12 + 218*x^11 + 282*x^10 + 287*x^9 + 302*x^8 + 241*x^7 + 275*x^6 + 282*x^5 + 114*x^4 + 124*x^3 + 110*x^2 + 174*x + 196"
      ]
     },
     "execution_count": 42,
     "metadata": {},
     "output_type": "execute_result"
    }
   ],
   "source": [
    "L.determinant().monic()"
   ]
  },
  {
   "cell_type": "code",
   "execution_count": 59,
   "metadata": {},
   "outputs": [
    {
     "data": {
      "text/plain": [
       "x^30 + 292*x^29 + x^28 + 73*x^27 + 114*x^26 + 192*x^25 + 147*x^24 + 26*x^23 + 201*x^22 + 250*x^21 + 266*x^20 + 168*x^19 + 171*x^18 + 134*x^17 + 71*x^16 + 301*x^15 + 133*x^14 + 197*x^13 + 267*x^12 + 218*x^11 + 282*x^10 + 287*x^9 + 302*x^8 + 241*x^7 + 275*x^6 + 282*x^5 + 114*x^4 + 124*x^3 + 110*x^2 + 174*x + 196"
      ]
     },
     "execution_count": 59,
     "metadata": {},
     "output_type": "execute_result"
    }
   ],
   "source": [
    "A[:3,:3].determinant()"
   ]
  },
  {
   "cell_type": "code",
   "execution_count": 410,
   "metadata": {},
   "outputs": [
    {
     "data": {
      "text/plain": [
       "[       247*x^20 + 253*x^19 + 258*x^18 + 24*x^17 + 279*x^16 + 235*x^15 + 24*x^14 + 116*x^13 + 305*x^12 + 276*x^11 + 234*x^10 + 9*x^9 + 44*x^8 + 74*x^7 + 249*x^6 + 61*x^5 + 73*x^4 + 256*x^3 + 92*x^2 + 52*x + 160  131*x^20 + 93*x^19 + 213*x^18 + 156*x^17 + 225*x^16 + 28*x^15 + 44*x^14 + 122*x^13 + 149*x^12 + 108*x^11 + 294*x^10 + 269*x^9 + 286*x^8 + 125*x^7 + 150*x^6 + 49*x^5 + 272*x^4 + 276*x^3 + 249*x^2 + 133*x + 197         140*x^20 + 126*x^19 + 96*x^18 + 303*x^17 + 281*x^16 + 45*x^15 + 25*x^14 + 64*x^13 + 130*x^12 + 89*x^11 + 17*x^10 + 138*x^9 + 173*x^8 + 112*x^7 + 9*x^6 + 287*x^5 + 72*x^4 + 219*x^3 + 9*x^2 + 260*x + 226]\n",
       "[   296*x^20 + 236*x^19 + 79*x^18 + 170*x^17 + 152*x^16 + 147*x^15 + 279*x^14 + 69*x^13 + 45*x^12 + 127*x^11 + 200*x^10 + 230*x^9 + 237*x^8 + 136*x^7 + 210*x^6 + 8*x^5 + 112*x^4 + 138*x^3 + 34*x^2 + 240*x + 209        234*x^20 + 278*x^19 + 50*x^18 + 92*x^17 + 245*x^16 + 74*x^15 + 290*x^14 + 224*x^13 + 227*x^12 + 197*x^11 + 255*x^10 + 44*x^9 + 13*x^8 + 299*x^7 + 28*x^6 + 288*x^5 + 134*x^4 + 83*x^3 + 95*x^2 + 77*x + 74     76*x^20 + 186*x^19 + 143*x^18 + 30*x^17 + 130*x^16 + 138*x^15 + 37*x^14 + 28*x^13 + 171*x^12 + 47*x^11 + 110*x^10 + 97*x^9 + 265*x^8 + 225*x^7 + 109*x^6 + 120*x^5 + 278*x^4 + 124*x^3 + 288*x^2 + 289*x + 93]\n",
       "[45*x^20 + 228*x^19 + 67*x^18 + 248*x^17 + 174*x^16 + 190*x^15 + 261*x^14 + 134*x^13 + 213*x^12 + 154*x^11 + 219*x^10 + 89*x^9 + 122*x^8 + 209*x^7 + 116*x^6 + 159*x^5 + 156*x^4 + 264*x^3 + 153*x^2 + 148*x + 108             113*x^20 + 29*x^19 + 167*x^18 + 271*x^17 + 57*x^16 + 100*x^14 + 67*x^13 + 103*x^12 + 221*x^11 + 200*x^10 + 213*x^9 + 299*x^8 + 91*x^7 + 187*x^6 + 126*x^5 + 282*x^4 + 281*x^3 + 197*x^2 + 296*x + 215      45*x^20 + 2*x^19 + 35*x^18 + 171*x^17 + 116*x^16 + 77*x^15 + 153*x^14 + 19*x^13 + 206*x^12 + 104*x^11 + 284*x^10 + 95*x^9 + 66*x^8 + 210*x^7 + 107*x^6 + 232*x^5 + 188*x^4 + 304*x^3 + 177*x^2 + 140*x + 224]"
      ]
     },
     "execution_count": 410,
     "metadata": {},
     "output_type": "execute_result"
    }
   ],
   "source": [
    "M.truncate(s+1)"
   ]
  },
  {
   "cell_type": "code",
   "execution_count": 411,
   "metadata": {},
   "outputs": [
    {
     "data": {
      "text/plain": [
       "[    13*x^20 + 144*x^19 + 199*x^18 + 274*x^17 + 248*x^16 + 259*x^15 + 52*x^14 + 33*x^13 + 89*x^12 + 69*x^11 + 114*x^10 + 197*x^9 + 245*x^8 + 69*x^7 + 15*x^6 + 304*x^5 + 187*x^4 + 75*x^3 + 175*x^2 + 199*x + 164          14*x^20 + 59*x^19 + 45*x^18 + 70*x^17 + 154*x^16 + 97*x^15 + 294*x^14 + 95*x^13 + 109*x^12 + 203*x^11 + 96*x^10 + 77*x^9 + 303*x^8 + 36*x^7 + 270*x^6 + 20*x^5 + 68*x^4 + 230*x^3 + 9*x^2 + 133*x + 267 209*x^20 + 300*x^19 + 244*x^18 + 277*x^17 + 238*x^16 + 154*x^15 + 129*x^14 + 270*x^13 + 266*x^12 + 268*x^11 + 53*x^10 + 156*x^9 + 251*x^8 + 134*x^7 + 155*x^6 + 15*x^5 + 265*x^4 + 180*x^3 + 53*x^2 + 180*x + 98]\n",
       "[  40*x^20 + 301*x^19 + 93*x^18 + 249*x^17 + 130*x^16 + 114*x^15 + 154*x^14 + 213*x^13 + 289*x^12 + 211*x^11 + 35*x^10 + 240*x^9 + 123*x^8 + 220*x^7 + 153*x^6 + 66*x^5 + 303*x^4 + 19*x^3 + 122*x^2 + 133*x + 46     87*x^20 + 122*x^19 + 127*x^18 + 160*x^17 + 69*x^16 + 215*x^15 + 90*x^14 + 227*x^13 + 16*x^12 + 106*x^11 + 67*x^10 + 192*x^9 + 115*x^8 + 63*x^7 + 28*x^6 + 142*x^5 + 245*x^4 + 215*x^3 + 59*x^2 + 142*x + 167    151*x^20 + 22*x^19 + 90*x^18 + 129*x^17 + 266*x^16 + 50*x^15 + 66*x^14 + 93*x^13 + 256*x^12 + 193*x^11 + 151*x^10 + 63*x^9 + 240*x^8 + 98*x^7 + 118*x^6 + 177*x^5 + 157*x^4 + 230*x^3 + 167*x^2 + 305*x + 200]\n",
       "[             16*x^20 + 36*x^19 + 64*x^18 + 20*x^17 + 105*x^16 + 230*x^15 + 232*x^14 + 278*x^13 + 118*x^12 + 101*x^11 + 24*x^10 + 195*x^9 + 83*x^8 + 224*x^6 + 135*x^5 + 172*x^4 + 174*x^3 + 132*x^2 + 282*x + 10        245*x^20 + 267*x^19 + 193*x^18 + 55*x^17 + 263*x^16 + 36*x^15 + 41*x^14 + 136*x^13 + 193*x^12 + 201*x^11 + 8*x^10 + 190*x^9 + 58*x^8 + 93*x^7 + 47*x^6 + 126*x^5 + 26*x^4 + 230*x^3 + 217*x^2 + 60*x + 78  170*x^20 + 263*x^19 + 126*x^18 + 117*x^17 + 180*x^16 + 244*x^15 + 221*x^14 + 263*x^13 + 229*x^12 + 172*x^11 + 152*x^10 + 140*x^9 + 83*x^8 + 17*x^7 + 90*x^6 + 281*x^5 + 175*x^4 + 197*x^3 + 292*x^2 + 55*x + 83]"
      ]
     },
     "execution_count": 411,
     "metadata": {},
     "output_type": "execute_result"
    }
   ],
   "source": [
    "S"
   ]
  },
  {
   "cell_type": "code",
   "execution_count": null,
   "metadata": {},
   "outputs": [],
   "source": []
  },
  {
   "cell_type": "code",
   "execution_count": null,
   "metadata": {},
   "outputs": [],
   "source": []
  }
 ],
 "metadata": {
  "kernelspec": {
   "display_name": "SageMath 9.7.beta0",
   "language": "sage",
   "name": "sagemath"
  },
  "language_info": {
   "codemirror_mode": {
    "name": "ipython",
    "version": 3
   },
   "file_extension": ".py",
   "mimetype": "text/x-python",
   "name": "python",
   "nbconvert_exporter": "python",
   "pygments_lexer": "ipython3",
   "version": "3.10.3"
  }
 },
 "nbformat": 4,
 "nbformat_minor": 4
}
