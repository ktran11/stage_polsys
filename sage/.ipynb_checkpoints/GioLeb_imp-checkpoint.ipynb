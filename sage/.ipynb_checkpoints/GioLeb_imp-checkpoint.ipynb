{
 "cells": [
  {
   "cell_type": "code",
   "execution_count": 94,
   "id": "61131e08",
   "metadata": {},
   "outputs": [],
   "source": [
    "%runfile utils/matrix_factorizations.sage"
   ]
  },
  {
   "cell_type": "code",
   "execution_count": null,
   "id": "69c93370",
   "metadata": {},
   "outputs": [],
   "source": []
  },
  {
   "cell_type": "code",
   "execution_count": 95,
   "id": "b82f06f2",
   "metadata": {},
   "outputs": [],
   "source": [
    "def create_permutation_matrix(shift):\n",
    "    s = copy(shift)\n",
    "    m = len(s)\n",
    "    A = list(list(zip(*sorted( [(s[i],i+1) for i in range(m)] )))[1])\n",
    "    Mn = MatrixSpace(ZZ,m,m)\n",
    "    \n",
    "    I = Mn.identity_matrix()\n",
    "    perm = Permutation(A)\n",
    "    return perm"
   ]
  },
  {
   "cell_type": "code",
   "execution_count": 96,
   "id": "cf3aa9e9",
   "metadata": {},
   "outputs": [],
   "source": [
    "def Basis(F0,s = None):\n",
    "    m,n = F0.dimensions()\n",
    "    if (s == None):\n",
    "        s = [0]*m\n",
    "\n",
    "    pi = create_permutation_matrix(s)\n",
    "    K,rrp, nrrp = PLUQ_to_left_kernel(F0.with_permuted_rows(pi))\n",
    "    r = m - K.nrows()\n",
    "    Mn = MatrixSpace(ZZ,m,m)\n",
    "    I = Mn.identity_matrix()\n",
    "    pi_mat = I.with_permuted_rows(pi)\n",
    "    P = Permutation([i+1 for i in rrp+nrrp]).inverse() \n",
    "    P_mat =  I.with_permuted_columns(P)\n",
    "    M = (P_mat*pi_mat).inverse_of_unit()*block_matrix([[x,0],[K,1]])*(P_mat*pi_mat)\n",
    "    u = (P_mat*pi_mat).inverse_of_unit()*((P_mat*pi_mat)*vector(s) + vector([1]*r+[0]*(m-r)))\n",
    "    return M,u"
   ]
  },
  {
   "cell_type": "code",
   "execution_count": null,
   "id": "028764e7",
   "metadata": {},
   "outputs": [],
   "source": []
  },
  {
   "cell_type": "code",
   "execution_count": 97,
   "id": "22ce1087",
   "metadata": {},
   "outputs": [],
   "source": [
    "m = 16\n",
    "n = 8\n",
    "F = GF(97)\n",
    "pR.<x> = F[]"
   ]
  },
  {
   "cell_type": "code",
   "execution_count": 98,
   "id": "aed0aab3",
   "metadata": {},
   "outputs": [],
   "source": [
    "M = MatrixSpace(F,m,n)\n",
    "Mm = MatrixSpace(F,m,n)\n",
    "\n",
    "MX = MatrixSpace(pR,m,m)"
   ]
  },
  {
   "cell_type": "code",
   "execution_count": 99,
   "id": "454f520d",
   "metadata": {},
   "outputs": [],
   "source": [
    "for i in range(100):\n",
    "    A = M.random_element() \n",
    "    shift = (ZZ^m).random_element()\n",
    "    B, new_shift= Basis(A,shift)\n",
    "    if (not B.is_minimal_approximant_basis(A,1,shift)):\n",
    "        print(\"error\")\n",
    "    if (list(new_shift) != B.row_degrees(shift)):\n",
    "        print(\"wrong shift\")"
   ]
  },
  {
   "cell_type": "code",
   "execution_count": 151,
   "id": "dbe42a03",
   "metadata": {},
   "outputs": [],
   "source": [
    "m = 8\n",
    "n = 4 \n",
    "F = GF(2)\n",
    "\n",
    "sigma = 4\n",
    "pR.<x> = F[]\n",
    "Ms = MatrixSpace(pR,m,n)\n",
    "Ms_n = MatrixSpace(pR,m,m)\n",
    "A = Ms.random_element()"
   ]
  },
  {
   "cell_type": "code",
   "execution_count": 152,
   "id": "09000a5f",
   "metadata": {},
   "outputs": [],
   "source": [
    "def M_Basis(F,sigma,shift = None):\n",
    "    pR = F.base_ring()\n",
    "    x = pR.gen()\n",
    "    m,n = F.dimensions()\n",
    "    R = parent(F)\n",
    "    if (shift == None):\n",
    "        shift = [0]*m\n",
    "        \n",
    "    P = [0]*sigma\n",
    "    u = [0]*sigma\n",
    "    M = [0]*sigma\n",
    "    P[0],u[0] = Basis(F.coefficient_matrix(0), shift)\n",
    "    for k in range(1,sigma):\n",
    "        F_prime = R(x^(-k)*P[k-1]*F).coefficient_matrix(0)\n",
    "        M[k],u[k] = Basis(F_prime, u[k-1])\n",
    "        P[k] = M[k]*P[k-1]\n",
    "    return P[-1], u[-1]"
   ]
  },
  {
   "cell_type": "code",
   "execution_count": 157,
   "id": "68180836",
   "metadata": {},
   "outputs": [],
   "source": [
    "A = Ms([[0 +0*x^1 + 0*x^2 + 0*x^3 + 1*x^4 + 1*x^5 + 1*x^6,0 +0*x^1 + 0*x^2 + 1*x^3,1 +0*x^1 + 0*x^2 + 1*x^3 + 1*x^4 + 1*x^5 + 0*x^6 + 0*x^7 + 1*x^8 + 1*x^9,0 +1*x^1 + 0*x^2 + 0*x^3 + 0*x^4 + 1*x^5],\n",
    "[0 +1*x^1 + 0*x^2 + 1*x^3 + 1*x^4 + 1*x^5 + 0*x^6 + 0*x^7 + 0*x^8 + 1*x^9,1 +1*x^1 + 0*x^2 + 1*x^3 + 0*x^4 + 0*x^5 + 0*x^6 + 1*x^7 + 0*x^8 + 1*x^9,1 +1*x^1 + 1*x^2 + 1*x^3 + 0*x^4 + 0*x^5 + 1*x^6 + 1*x^7 + 0*x^8 + 1*x^9,0],\n",
    "[0, 1 +0*x^1 + 1*x^2 + 0*x^3 + 1*x^4 + 1*x^5 + 0*x^6 + 1*x^7 + 1*x^8,1 +1*x^1 + 1*x^2 + 1*x^3 + 1*x^4 + 0*x^5 + 0*x^6 + 0*x^7 + 0*x^8 + 1*x^9,0 +0*x^1 + 0*x^2 + 1*x^3],\n",
    "[1 +0*x^1 + 0*x^2 + 1*x^3 + 1*x^4 + 1*x^5 + 1*x^6 + 1*x^7 + 1*x^8 + 1*x^9,0 +0*x^1 + 0*x^2 + 0*x^3 + 0*x^4 + 0*x^5 + 1*x^6 + 1*x^7 + 0*x^8 + 1*x^9,0 +1*x^1 + 0*x^2 + 1*x^3 + 1*x^4 + 0*x^5 + 0*x^6 + 0*x^7 + 1*x^8 + 1*x^9,0 +1*x^1 + 0*x^2 + 0*x^3 + 0*x^4 + 0*x^5 + 1*x^6],\n",
    "[0 +1*x^1 + 0*x^2 + 0*x^3 + 1*x^4 + 0*x^5 + 0*x^6 + 0*x^7 + 1*x^8,0 +0*x^1 + 0*x^2 + 0*x^3 + 0*x^4 + 0*x^5 + 1*x^6,0, 1 +1*x^1 + 0*x^2 + 1*x^3],\n",
    "[0 +0*x^1 + 0*x^2 + 0*x^3 + 0*x^4 + 0*x^5 + 0*x^6 + 0*x^7 + 0*x^8 + 1*x^9,0 +0*x^1 + 1*x^2 + 0*x^3 + 1*x^4 + 1*x^5 + 0*x^6 + 1*x^7 + 1*x^8 + 1*x^9,0 +1*x^1 + 0*x^2 + 1*x^3 + 1*x^4 + 1*x^5 + 1*x^6 + 1*x^7 + 1*x^8,0 +0*x^1 + 0*x^2 + 0*x^3 + 0*x^4 + 0*x^5 + 1*x^6],\n",
    "[0, 0, 0 +0*x^1 + 0*x^2 + 0*x^3 + 0*x^4 + 0*x^5 + 0*x^6 + 1*x^7,0 +1*x^1 + 0*x^2 + 0*x^3 + 1*x^4 + 0*x^5 + 1*x^6 + 1*x^7 + 1*x^8],\n",
    "[1 +1*x^1 + 1*x^2 + 1*x^3 + 0*x^4 + 1*x^5 + 1*x^6,0 +0*x^1 + 0*x^2 + 1*x^3,1 +1*x^1 + 1*x^2 + 0*x^3 + 0*x^4 + 1*x^5 + 0*x^6 + 1*x^7,0 +0*x^1 + 0*x^2 + 0*x^3 + 0*x^4 + 0*x^5 + 0*x^6 + 0*x^7 + 1*x^8]]\n",
    ")\n",
    "\n",
    "shifts = [2,3,4,1,0,7,5,6]\n"
   ]
  },
  {
   "cell_type": "code",
   "execution_count": 158,
   "id": "393e53b3",
   "metadata": {},
   "outputs": [],
   "source": [
    "P,u = M_Basis(A, 3, shifts)"
   ]
  },
  {
   "cell_type": "code",
   "execution_count": 159,
   "id": "6255eebe",
   "metadata": {},
   "outputs": [
    {
     "data": {
      "text/plain": [
       "[        x^3           0           0           0           0           0           0           0]\n",
       "[          0         x^3           0           0           0           0           0           0]\n",
       "[          x       x + 1           1     x^2 + x           0           0           0           0]\n",
       "[          0           0           0         x^3           0           0           0           0]\n",
       "[          0           0           0           0         x^3           0           0           0]\n",
       "[    x^2 + x         x^2           0           0         x^2           1           0           0]\n",
       "[          0           0           0         x^2     x^2 + x           0           1           0]\n",
       "[          1           0           0 x^2 + x + 1         x^2           0           0           1]"
      ]
     },
     "execution_count": 159,
     "metadata": {},
     "output_type": "execute_result"
    }
   ],
   "source": [
    "P"
   ]
  },
  {
   "cell_type": "code",
   "execution_count": 160,
   "id": "c42e00e1",
   "metadata": {},
   "outputs": [
    {
     "data": {
      "text/plain": [
       "(5, 6, 4, 4, 3, 7, 5, 6)"
      ]
     },
     "execution_count": 160,
     "metadata": {},
     "output_type": "execute_result"
    }
   ],
   "source": [
    "u"
   ]
  },
  {
   "cell_type": "code",
   "execution_count": 161,
   "id": "a51b2757",
   "metadata": {},
   "outputs": [
    {
     "data": {
      "text/plain": [
       "[        x^3           0           0           0           0           0           0           0]\n",
       "[          0         x^3           0           0           0           0           0           0]\n",
       "[          x       x + 1           1     x^2 + x           0           0           0           0]\n",
       "[          0           0           0         x^3           0           0           0           0]\n",
       "[          0           0           0           0         x^3           0           0           0]\n",
       "[    x^2 + x         x^2           0           0         x^2           1           0           0]\n",
       "[          0           0           0         x^2     x^2 + x           0           1           0]\n",
       "[          1           0           0 x^2 + x + 1         x^2           0           0           1]"
      ]
     },
     "execution_count": 161,
     "metadata": {},
     "output_type": "execute_result"
    }
   ],
   "source": [
    "res = Ms_n([[0 +0*x^1 + 0*x^2 + 1*x^3,0, 0, 0, 0, 0, 0, 0],\n",
    "[0, 0 +0*x^1 + 0*x^2 + 1*x^3,0, 0, 0, 0, 0, 0],\n",
    "[0 +1*x^1,1 +1*x^1,1,0 +1*x^1 + 1*x^2,0, 0, 0, 0],\n",
    "[0, 0, 0, 0 +0*x^1 + 0*x^2 + 1*x^3,0, 0, 0, 0],\n",
    "[0, 0, 0, 0, 0 +0*x^1 + 0*x^2 + 1*x^3,0, 0, 0],\n",
    "[0 +1*x^1 + 1*x^2,0 +0*x^1 + 1*x^2,0, 0, 0 +0*x^1 + 1*x^2,1,0, 0],\n",
    "[0, 0, 0, 0 +0*x^1 + 1*x^2,0 +1*x^1 + 1*x^2,0, 1,0],\n",
    "[1,0, 0, 1 +1*x^1 + 1*x^2,0 +0*x^1 + 1*x^2,0, 0, 1]]\n",
    ")\n",
    "\n",
    "res"
   ]
  },
  {
   "cell_type": "code",
   "execution_count": 128,
   "id": "d087aea7",
   "metadata": {},
   "outputs": [],
   "source": [
    "for i in range(100):\n",
    "    A = Ms.random_element() \n",
    "    sigma = ZZ.random_element(1,10)\n",
    "    shift = (ZZ^m).random_element()\n",
    "    B, new_shift= M_Basis(A, sigma, shift)\n",
    "    if (not B.is_minimal_approximant_basis(A,sigma,shift)):\n",
    "        print(\"error\")"
   ]
  },
  {
   "cell_type": "code",
   "execution_count": null,
   "id": "ab83f962",
   "metadata": {},
   "outputs": [],
   "source": []
  }
 ],
 "metadata": {
  "kernelspec": {
   "display_name": "SageMath 9.7.beta0",
   "language": "sage",
   "name": "sagemath"
  },
  "language_info": {
   "codemirror_mode": {
    "name": "ipython",
    "version": 3
   },
   "file_extension": ".py",
   "mimetype": "text/x-python",
   "name": "python",
   "nbconvert_exporter": "python",
   "pygments_lexer": "ipython3",
   "version": "3.10.3"
  }
 },
 "nbformat": 4,
 "nbformat_minor": 5
}
