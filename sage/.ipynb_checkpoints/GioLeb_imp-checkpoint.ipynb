{
 "cells": [
  {
   "cell_type": "code",
   "execution_count": 44,
   "id": "ebd4f8f1",
   "metadata": {},
   "outputs": [],
   "source": [
    "def create_permutation_matrix(s):\n",
    "    s = list(s)\n",
    "    def key(si):\n",
    "        return si[0]\n",
    "    s_p = [(si,i) for i,si in enumerate(s)]\n",
    "    s_p.sort(key = key)\n",
    "    l = len(s)\n",
    "    M = MatrixSpace(ZZ,l)\n",
    "    P = M([[0]*l]*l)\n",
    "    for i in range(l):\n",
    "        P[i,s_p[i][1]] = 1\n",
    "    return P"
   ]
  },
  {
   "cell_type": "code",
   "execution_count": 140,
   "id": "b18e7946",
   "metadata": {},
   "outputs": [],
   "source": [
    "def Basis(F0,s = None):\n",
    "    m,n = F0.dimensions()\n",
    "    if (s == None):\n",
    "        s = [0]*m\n",
    "\n",
    "    pi = create_permutation_matrix(s)\n",
    "    P,L,U = (pi*F0).LU()\n",
    "    r = U.rank()\n",
    "    Lr = L[:r,:r]\n",
    "    G = L[r:,:r]\n",
    "    K = F0.base_ring()\n",
    "    pR.<x> = K[]\n",
    "    Pinv = P.inverse_of_unit()\n",
    "    pi_inv = pi.inverse_of_unit()\n",
    "    M = pi_inv * P *block_matrix(2,2,[[x,0],[-G*Lr.inverse(), 1]])*Pinv*pi\n",
    "    MS = MatrixSpace(ZZ,m)\n",
    "    u = pi_inv*P*(Pinv*pi*vector(s) + vector([1]*r+[0]*(m-r)))\n",
    "    print(pi_inv*P)\n",
    "    return M,u"
   ]
  },
  {
   "cell_type": "code",
   "execution_count": 141,
   "id": "22ce1087",
   "metadata": {},
   "outputs": [],
   "source": [
    "m = 8\n",
    "n = 5\n",
    "F = GF(13)\n",
    "pR.<x> = F[]"
   ]
  },
  {
   "cell_type": "code",
   "execution_count": 142,
   "id": "aed0aab3",
   "metadata": {},
   "outputs": [],
   "source": [
    "M = MatrixSpace(F,m,n)\n",
    "MX = MatrixSpace(pR,m,n)"
   ]
  },
  {
   "cell_type": "code",
   "execution_count": 143,
   "id": "2452de7f",
   "metadata": {},
   "outputs": [],
   "source": [
    "AX=MX.random_element()\n",
    "A = M(AX.coefficient_matrix(0))"
   ]
  },
  {
   "cell_type": "code",
   "execution_count": 144,
   "id": "8160f7f5",
   "metadata": {},
   "outputs": [],
   "source": [
    "A = M([[10, 1 , 6,  0, 12],\n",
    "[ 3 , 6 , 4 , 6 ,10],\n",
    "[ 9 , 6 ,11,  4,  2],\n",
    "[ 5  ,4  ,6 , 4 , 0],\n",
    "[ 9 , 9,  4  ,7 , 9],\n",
    "[11  ,6 ,10 , 0,  1],\n",
    "[ 8  ,8 , 1 , 1,  2],\n",
    "[ 9 ,10 , 3, 12,  8]]\n",
    ")"
   ]
  },
  {
   "cell_type": "code",
   "execution_count": 145,
   "id": "75435398",
   "metadata": {},
   "outputs": [
    {
     "data": {
      "text/plain": [
       "[0, -1, -2, -3, -4, -5, -6, -7]"
      ]
     },
     "execution_count": 145,
     "metadata": {},
     "output_type": "execute_result"
    }
   ],
   "source": [
    "shifts = [-i for i in range(m)]\n",
    "shifts"
   ]
  },
  {
   "cell_type": "code",
   "execution_count": 146,
   "id": "ba6f55fc",
   "metadata": {},
   "outputs": [
    {
     "name": "stdout",
     "output_type": "stream",
     "text": [
      "[0 0 0 0 0 0 0 1]\n",
      "[0 0 0 0 0 0 1 0]\n",
      "[0 0 0 0 0 1 0 0]\n",
      "[0 0 0 0 1 0 0 0]\n",
      "[0 0 0 1 0 0 0 0]\n",
      "[0 0 1 0 0 0 0 0]\n",
      "[0 1 0 0 0 0 0 0]\n",
      "[1 0 0 0 0 0 0 0]\n"
     ]
    }
   ],
   "source": [
    "B, new_shifts = Basis(A,shifts)"
   ]
  },
  {
   "cell_type": "code",
   "execution_count": 147,
   "id": "9bad9d2d",
   "metadata": {},
   "outputs": [
    {
     "data": {
      "text/plain": [
       "True"
      ]
     },
     "execution_count": 147,
     "metadata": {},
     "output_type": "execute_result"
    }
   ],
   "source": [
    "B.is_minimal_approximant_basis(A,1, shifts = shifts)"
   ]
  },
  {
   "cell_type": "code",
   "execution_count": 148,
   "id": "5cbdba10",
   "metadata": {},
   "outputs": [
    {
     "data": {
      "text/plain": [
       "(0, 12, 11, 11, 10, 9, 8, 7)"
      ]
     },
     "execution_count": 148,
     "metadata": {},
     "output_type": "execute_result"
    }
   ],
   "source": [
    "new_shifts"
   ]
  },
  {
   "cell_type": "code",
   "execution_count": 65,
   "id": "ec5e3fa2",
   "metadata": {},
   "outputs": [
    {
     "name": "stdout",
     "output_type": "stream",
     "text": [
      "False [0, 2, 1, -1, 3, 0, 4, -2, 2] [0, 2, 1, 10, 3, 0, 4, 11, 2]\n",
      "Not a minimal approximant basis\n"
     ]
    }
   ],
   "source": [
    "for i in range(100):\n",
    "    AX=MX.random_element()\n",
    "    A = M(AX.coefficient_matrix(0))\n",
    "    shifts = [ZZ.random_element(-4,5) for i in range(m)]\n",
    "    B, new_shifts = Basis(A,shifts)\n",
    "    if(B.row_degrees(shifts = shifts) != new_shifts.list()):\n",
    "        print('False',B.row_degrees(shifts = shifts),new_shifts.list())\n",
    "    if (not B.is_minimal_approximant_basis(A,1, shifts = shifts)):\n",
    "        print('Not a minimal approximant basis')"
   ]
  },
  {
   "cell_type": "code",
   "execution_count": 68,
   "id": "dbe42a03",
   "metadata": {},
   "outputs": [],
   "source": [
    "pR.<x> = GF(13)[]\n",
    "m = 8\n",
    "n = 5\n",
    "sigma = 40\n",
    "Ms = MatrixSpace(pR,m,n)\n",
    "A = Ms.random_element()"
   ]
  },
  {
   "cell_type": "code",
   "execution_count": 69,
   "id": "09000a5f",
   "metadata": {},
   "outputs": [],
   "source": [
    "def M_Basis(F,sigma,shift = None):\n",
    "    pR = F.base_ring()\n",
    "    x = pR.gen()\n",
    "    m,n = F.dimensions()\n",
    "    R = parent(F)\n",
    "    if (shift == None):\n",
    "        shift = [0]*m\n",
    "        \n",
    "    P = [0]*sigma\n",
    "    u = [0]*sigma\n",
    "    M = [0]*sigma\n",
    "    P[0],u[0] = Basis(F.coefficient_matrix(0), shift)\n",
    "    for k in range(1,sigma):\n",
    "        F_prime = R(x^(-k)*P[k-1]*F).coefficient_matrix(0)\n",
    "        M[k],u[k] = Basis(F_prime, u[k-1])\n",
    "        P[k] = M[k]*P[k-1]\n",
    "    return P, u, M"
   ]
  },
  {
   "cell_type": "code",
   "execution_count": 77,
   "id": "d0661e7c",
   "metadata": {},
   "outputs": [
    {
     "name": "stdout",
     "output_type": "stream",
     "text": [
      "Error\n",
      "Error\n",
      "Error\n",
      "Error\n",
      "Error\n",
      "Error\n",
      "Error\n",
      "Error\n",
      "Error\n",
      "Error\n",
      "Error\n",
      "Error\n",
      "Error\n",
      "Error\n",
      "Error\n",
      "Error\n",
      "Error\n",
      "Error\n",
      "Error\n",
      "Error\n",
      "Error\n",
      "Error\n",
      "Error\n",
      "Error\n",
      "Error\n",
      "Error\n",
      "Error\n",
      "Error\n",
      "Error\n",
      "Error\n",
      "Error\n",
      "Error\n",
      "Error\n",
      "Error\n",
      "Error\n",
      "Error\n",
      "Error\n",
      "Error\n",
      "Error\n",
      "Error\n",
      "Error\n",
      "Error\n",
      "Error\n",
      "Error\n",
      "Error\n",
      "Error\n",
      "Error\n",
      "Error\n",
      "Error\n",
      "Error\n",
      "Error\n",
      "Error\n",
      "Error\n",
      "Error\n",
      "Error\n",
      "Error\n",
      "Error\n",
      "Error\n",
      "Error\n",
      "Error\n",
      "Error\n",
      "Error\n",
      "Error\n",
      "Error\n",
      "Error\n",
      "Error\n",
      "Error\n",
      "Error\n",
      "Error\n",
      "Error\n",
      "Error\n",
      "Error\n",
      "Error\n",
      "Error\n",
      "Error\n",
      "Error\n",
      "Error\n",
      "Error\n",
      "Error\n",
      "Error\n",
      "Error\n",
      "Error\n",
      "Error\n",
      "Error\n",
      "Error\n",
      "Error\n",
      "Error\n",
      "Error\n",
      "Error\n",
      "Error\n",
      "Error\n",
      "Error\n",
      "Error\n",
      "Error\n",
      "Error\n",
      "Error\n"
     ]
    },
    {
     "data": {
      "text/plain": [
       "96"
      ]
     },
     "execution_count": 77,
     "metadata": {},
     "output_type": "execute_result"
    }
   ],
   "source": [
    "k = 0\n",
    "for i in range(100):\n",
    "    sigma = ZZ.random_element(1,50)\n",
    "    shifts = [ZZ.random_element(-4,5) for i in range(m)]\n",
    "    A = Ms.random_element()\n",
    "    P,u, M = M_Basis(A,sigma, shift = shifts)\n",
    "    if (not P[-1].is_minimal_approximant_basis(A,sigma, shifts = shifts)):\n",
    "        print(\"Error\")\n",
    "        k += 1\n",
    "k"
   ]
  },
  {
   "cell_type": "code",
   "execution_count": 78,
   "id": "15f558a9",
   "metadata": {},
   "outputs": [
    {
     "data": {
      "text/plain": [
       "False"
      ]
     },
     "execution_count": 78,
     "metadata": {},
     "output_type": "execute_result"
    }
   ],
   "source": [
    "P[-1].is_reduced(shifts = shifts)"
   ]
  },
  {
   "cell_type": "code",
   "execution_count": null,
   "id": "617f44d1",
   "metadata": {},
   "outputs": [],
   "source": []
  },
  {
   "cell_type": "code",
   "execution_count": 79,
   "id": "ed7c94c7",
   "metadata": {},
   "outputs": [
    {
     "data": {
      "text/plain": [
       "[12, 4, 12, 2, 3, 3, 11, 12]"
      ]
     },
     "execution_count": 79,
     "metadata": {},
     "output_type": "execute_result"
    }
   ],
   "source": [
    "M[1].row_degrees(shifts = u[0])"
   ]
  },
  {
   "cell_type": "code",
   "execution_count": 80,
   "id": "e97b586f",
   "metadata": {},
   "outputs": [
    {
     "data": {
      "text/plain": [
       "(12, 4, 12, 2, 3, 3, 11, 12)"
      ]
     },
     "execution_count": 80,
     "metadata": {},
     "output_type": "execute_result"
    }
   ],
   "source": [
    "u[1]"
   ]
  },
  {
   "cell_type": "code",
   "execution_count": 81,
   "id": "6756f20f",
   "metadata": {},
   "outputs": [
    {
     "data": {
      "text/plain": [
       "[ 0  0 -1  0 -1  0  0 -1]\n",
       "[-1  1 -1 -1 -1 -1 -1 -1]\n",
       "[-1  0  0  0  0  0  0 -1]\n",
       "[-1 -1 -1  1 -1 -1 -1 -1]\n",
       "[-1 -1 -1 -1  1 -1 -1 -1]\n",
       "[-1 -1 -1 -1 -1  1 -1 -1]\n",
       "[-1 -1 -1 -1 -1 -1  1 -1]\n",
       "[-1  0 -1  0  0  0 -1  0]"
      ]
     },
     "execution_count": 81,
     "metadata": {},
     "output_type": "execute_result"
    }
   ],
   "source": [
    "M[1].degree_matrix()"
   ]
  },
  {
   "cell_type": "code",
   "execution_count": 82,
   "id": "fe60a7c3",
   "metadata": {},
   "outputs": [
    {
     "data": {
      "text/plain": [
       "(12, 3, 12, 1, 2, 2, 10, 12)"
      ]
     },
     "execution_count": 82,
     "metadata": {},
     "output_type": "execute_result"
    }
   ],
   "source": [
    "u[0]"
   ]
  },
  {
   "cell_type": "code",
   "execution_count": 83,
   "id": "ebf009b2",
   "metadata": {},
   "outputs": [
    {
     "data": {
      "text/plain": [
       "[0, 1, 0, 1, 1, 1, 1, 0]"
      ]
     },
     "execution_count": 83,
     "metadata": {},
     "output_type": "execute_result"
    }
   ],
   "source": [
    "M[1].row_degrees()"
   ]
  },
  {
   "cell_type": "code",
   "execution_count": null,
   "id": "ae9e38c9",
   "metadata": {},
   "outputs": [],
   "source": []
  }
 ],
 "metadata": {
  "kernelspec": {
   "display_name": "SageMath 9.7.beta0",
   "language": "sage",
   "name": "sagemath"
  },
  "language_info": {
   "codemirror_mode": {
    "name": "ipython",
    "version": 3
   },
   "file_extension": ".py",
   "mimetype": "text/x-python",
   "name": "python",
   "nbconvert_exporter": "python",
   "pygments_lexer": "ipython3",
   "version": "3.10.3"
  }
 },
 "nbformat": 4,
 "nbformat_minor": 5
}
