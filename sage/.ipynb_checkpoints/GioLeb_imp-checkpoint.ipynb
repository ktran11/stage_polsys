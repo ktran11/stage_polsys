{
 "cells": [
  {
   "cell_type": "code",
   "execution_count": 1,
   "id": "ebd4f8f1",
   "metadata": {},
   "outputs": [],
   "source": [
    "def create_permutation_matrix(s):\n",
    "    s = list(s)\n",
    "    def key(si):\n",
    "        return si[0]\n",
    "    s_p = [(si,i) for i,si in enumerate(s)]\n",
    "    s_p.sort(key = key)\n",
    "    l = len(s)\n",
    "    M = MatrixSpace(ZZ,l)\n",
    "    P = M([[0]*l]*l)\n",
    "    for i in range(l):\n",
    "        P[i,s_p[i][1]] = 1\n",
    "    return P"
   ]
  },
  {
   "cell_type": "code",
   "execution_count": 101,
   "id": "b18e7946",
   "metadata": {},
   "outputs": [],
   "source": [
    "def Basis(F0,s = None):\n",
    "    m,n = F0.dimensions()\n",
    "    if (s == None):\n",
    "        s = [0]*m\n",
    "\n",
    "    pi = create_permutation_matrix(s)\n",
    "    P,L,U = (pi*F0).LU()\n",
    "    r = U.rank()\n",
    "    Lr = L[:r,:r]\n",
    "    G = L[r:,:r]\n",
    "    K = F0.base_ring()\n",
    "    pR.<x> = K[]\n",
    "    Pinv = P.inverse_of_unit()\n",
    "    pi_inv = pi.inverse_of_unit()\n",
    "    print(-G*Lr.inverse())\n",
    "    M = pi_inv*P*block_matrix(2,2,[[x,0],[-G*Lr.inverse(), 1]])*Pinv*pi\n",
    "    MS = MatrixSpace(ZZ,m)\n",
    "    u = pi_inv*P*(Pinv*pi*vector(s) + vector([1]*r+[0]*(m-r)))\n",
    "    return M,u"
   ]
  },
  {
   "cell_type": "code",
   "execution_count": 121,
   "id": "22ce1087",
   "metadata": {},
   "outputs": [],
   "source": [
    "m = 6\n",
    "n = 3\n",
    "F = GF(7)\n",
    "pR.<x> = F[]"
   ]
  },
  {
   "cell_type": "code",
   "execution_count": 122,
   "id": "aed0aab3",
   "metadata": {},
   "outputs": [],
   "source": [
    "M = MatrixSpace(F,m,n)\n",
    "M = MatrixSpace(F,m,m)\n",
    "MX = MatrixSpace(pR,m,n)"
   ]
  },
  {
   "cell_type": "code",
   "execution_count": 7,
   "id": "2452de7f",
   "metadata": {},
   "outputs": [],
   "source": [
    "AX=MX.random_element()\n",
    "A = M(AX.coefficient_matrix(0))"
   ]
  },
  {
   "cell_type": "code",
   "execution_count": null,
   "id": "814663ac",
   "metadata": {},
   "outputs": [],
   "source": [
    "_"
   ]
  },
  {
   "cell_type": "code",
   "execution_count": 8,
   "id": "8160f7f5",
   "metadata": {},
   "outputs": [],
   "source": [
    "A = M([[10, 1 , 6,  0, 12],\n",
    "[ 3 , 6 , 4 , 6 ,10],\n",
    "[ 9 , 6 ,11,  4,  2],\n",
    "[ 5  ,4  ,6 , 4 , 0],\n",
    "[ 9 , 9,  4  ,7 , 9],\n",
    "[11  ,6 ,10 , 0,  1],\n",
    "[ 8  ,8 , 1 , 1,  2],\n",
    "[ 9 ,10 , 3, 12,  8]]\n",
    ")"
   ]
  },
  {
   "cell_type": "code",
   "execution_count": 9,
   "id": "75435398",
   "metadata": {},
   "outputs": [
    {
     "data": {
      "text/plain": [
       "[0, -1, -2, -3, -4, -5, -6, -7]"
      ]
     },
     "execution_count": 9,
     "metadata": {},
     "output_type": "execute_result"
    }
   ],
   "source": [
    "shifts = [-i for i in range(m)]\n",
    "shifts"
   ]
  },
  {
   "cell_type": "code",
   "execution_count": 10,
   "id": "ba6f55fc",
   "metadata": {},
   "outputs": [],
   "source": [
    "B, new_shifts = Basis(A,shifts)"
   ]
  },
  {
   "cell_type": "code",
   "execution_count": 11,
   "id": "9bad9d2d",
   "metadata": {},
   "outputs": [
    {
     "data": {
      "text/plain": [
       "True"
      ]
     },
     "execution_count": 11,
     "metadata": {},
     "output_type": "execute_result"
    }
   ],
   "source": [
    "B.is_minimal_approximant_basis(A,1, shifts = shifts)"
   ]
  },
  {
   "cell_type": "code",
   "execution_count": 12,
   "id": "9e605112",
   "metadata": {},
   "outputs": [
    {
     "data": {
      "text/plain": [
       "(0, 12, 11, 11, 10, 9, 8, 7)"
      ]
     },
     "execution_count": 12,
     "metadata": {},
     "output_type": "execute_result"
    }
   ],
   "source": [
    "new_shifts"
   ]
  },
  {
   "cell_type": "code",
   "execution_count": 13,
   "id": "ec5e3fa2",
   "metadata": {},
   "outputs": [
    {
     "name": "stdout",
     "output_type": "stream",
     "text": [
      "False [0, -3, 2, 1, -3, -3, -1, 1] [0, 10, 2, 1, 10, 10, 11, 1]\n",
      "Not reduced\n"
     ]
    }
   ],
   "source": [
    "for i in range(100):\n",
    "    AX=MX.random_element()\n",
    "    A = M(AX.coefficient_matrix(0))\n",
    "    shifts = [ZZ.random_element(-4,5) for i in range(m)]\n",
    "    B, new_shifts = Basis(A,shifts)\n",
    "    if(B.row_degrees(shifts = shifts) != new_shifts.list()):\n",
    "        print('False',B.row_degrees(shifts = shifts),new_shifts.list())\n",
    "    if (not B.is_reduced(shifts = shifts)):\n",
    "        print('Not reduced')\n",
    "        break"
   ]
  },
  {
   "cell_type": "code",
   "execution_count": 68,
   "id": "dbe42a03",
   "metadata": {},
   "outputs": [],
   "source": [
    "pR.<x> = GF(7)[]\n",
    "m = 6\n",
    "n = 3\n",
    "sigma = 1\n",
    "Ms = MatrixSpace(pR,m,n)\n",
    "M_n_s = MatrixSpace(pR,m,m)\n",
    "A = Ms.random_element()"
   ]
  },
  {
   "cell_type": "code",
   "execution_count": 103,
   "id": "09000a5f",
   "metadata": {},
   "outputs": [],
   "source": [
    "def M_Basis(F,sigma,shift = None):\n",
    "    pR = F.base_ring()\n",
    "    x = pR.gen()\n",
    "    m,n = F.dimensions()\n",
    "    R = parent(F)\n",
    "    if (shift == None):\n",
    "        shift = [0]*m\n",
    "        \n",
    "    P = [0]*sigma\n",
    "    u = [0]*sigma\n",
    "    M = [0]*sigma\n",
    "    P[0],u[0] = Basis(F.coefficient_matrix(0), shift)\n",
    "    for k in range(1,sigma):\n",
    "        F_prime = R(x^(-k)*P[k-1]*F).coefficient_matrix(0)\n",
    "        print()\n",
    "        print(F_prime)\n",
    "        print()\n",
    "        M[k],u[k] = Basis(F_prime, u[k-1])\n",
    "        P[k] = M[k]*P[k-1]\n",
    "    return P, u, M"
   ]
  },
  {
   "cell_type": "code",
   "execution_count": 104,
   "id": "15f558a9",
   "metadata": {},
   "outputs": [],
   "source": [
    "A = Ms([[pR([1,1,1,0,5,5,0,5,6,6]), pR([0]), pR([5,4,6,1,2,0,2,3,0,3])],\n",
    "[pR([0,3,0,0,0,3]), pR([0,3,5,0,5,0,4,6,2,3]), pR([5,4,5,6,4,3,5,4,3,1])],\n",
    "[pR([5,0,4,1,6,0,1,0,3,3]), pR([0]), pR([0])],\n",
    "[pR([0,0,4,3,2,0,4,2,1,6]), pR([3,0,2,3,3,2,0,1,3,1]), pR([0,5,0,2,6,0,0,0,3])],\n",
    "[pR([3,2,3,5,5,5,0,0,3,5]),pR([1,3,2,1,0,4,2,2,4,2]), pR([4,0,1,3,1,1,2,6,3,3])],\n",
    "[pR([0,6,0,0,0,0,0,6,1]), pR([5,1,6,0,0,6,6,0,5,4]),pR([0,0,0,0,0,0,6,2])]])"
   ]
  },
  {
   "cell_type": "code",
   "execution_count": 105,
   "id": "ed7c94c7",
   "metadata": {},
   "outputs": [],
   "source": [
    "shifts = [5,4,2,1,3,0]"
   ]
  },
  {
   "cell_type": "code",
   "execution_count": 106,
   "id": "d92f4dad",
   "metadata": {},
   "outputs": [
    {
     "name": "stdout",
     "output_type": "stream",
     "text": [
      "[0 3 0]\n",
      "[6 1 4]\n",
      "[3 1 4]\n",
      "\n",
      "[2 5 2]\n",
      "[4 1 2]\n",
      "[5 0 0]\n",
      "[0 3 0]\n",
      "[3 1 4]\n",
      "[6 1 1]\n",
      "\n",
      "[5 5 3]\n",
      "[3 1 0]\n",
      "[5 6 2]\n",
      "\n",
      "[5 0 5]\n",
      "[2 5 6]\n",
      "[5 0 0]\n",
      "[0 3 0]\n",
      "[3 4 5]\n",
      "[6 1 1]\n",
      "\n",
      "[2 3 2]\n",
      "[1 0 6]\n",
      "[6 3 4]\n",
      "\n",
      "[4 6 1]\n",
      "[2 5 6]\n",
      "[5 1 3]\n",
      "[0 3 0]\n",
      "[3 2 4]\n",
      "[6 1 1]\n",
      "\n",
      "[3 0 3]\n",
      "[0 2 2]\n",
      "[4 6 2]\n"
     ]
    }
   ],
   "source": [
    "P, u, M = M_Basis(A,4,shifts)"
   ]
  },
  {
   "cell_type": "code",
   "execution_count": 117,
   "id": "05f5217e",
   "metadata": {},
   "outputs": [
    {
     "data": {
      "text/plain": [
       "[      1       0 2*x + 3 6*x + 2       4       5]\n",
       "[      0       1 3*x + 6 5*x + 2       4       5]\n",
       "[      0       0     x^2       0       0       0]\n",
       "[      0       0       0     x^2       0       0]\n",
       "[      0       0       0   x + 2       x       3]\n",
       "[      0       0       0     3*x       0       x]"
      ]
     },
     "execution_count": 117,
     "metadata": {},
     "output_type": "execute_result"
    }
   ],
   "source": [
    "P[1]"
   ]
  },
  {
   "cell_type": "code",
   "execution_count": 116,
   "id": "eeef3f40",
   "metadata": {},
   "outputs": [
    {
     "data": {
      "text/plain": [
       "(5, 5, 5, 5, 4, 3)"
      ]
     },
     "execution_count": 116,
     "metadata": {},
     "output_type": "execute_result"
    }
   ],
   "source": [
    "u[-1]"
   ]
  },
  {
   "cell_type": "code",
   "execution_count": 114,
   "id": "013df00b",
   "metadata": {},
   "outputs": [
    {
     "data": {
      "text/plain": [
       "[                      1                       1         2*x^2 + 5*x + 2 2*x^3 + 2*x^2 + 6*x + 4                       1                 3*x + 3]\n",
       "[                      0                   x + 5               2*x^2 + 2               2*x^3 + 3                 4*x + 6         4*x^2 + 3*x + 4]\n",
       "[                      0                     2*x       x^3 + 6*x^2 + 5*x     3*x^3 + 2*x^2 + 4*x                       x             2*x^2 + 3*x]\n",
       "[                      0                       0                       0                     x^4                       0                       0]\n",
       "[                      0                       6                 4*x + 1     3*x^3 + 2*x^2 + 6*x                   x + 3           3*x^2 + x + 5]\n",
       "[                      0                       0                       0                   3*x^3                       0                     x^3]"
      ]
     },
     "execution_count": 114,
     "metadata": {},
     "output_type": "execute_result"
    }
   ],
   "source": [
    "L = [[1*x^0, 1*x^0, 2*x^0 + 5*x^1 + 2*x^2, 4*x^0 + 6*x^1 + 2*x^2 + 2*x^3, 1*x^0, 3*x^0 + 3*x^1],\n",
    "[0, 5*x^0 + 1*x^1, 2*x^0 + 0*x^1 + 2*x^2, 3*x^0 + 0*x^1 + 0*x^2 + 2*x^3, 6*x^0 + 4*x^1, 4*x^0 + 3*x^1 + 4*x^2],\n",
    "[0, 0*x^0 + 2*x^1, 0*x^0 + 5*x^1 + 6*x^2 + 1*x^3, 0*x^0 + 4*x^1 + 2*x^2 + 3*x^3, 0*x^0 + 1*x^1, 0*x^0 + 3*x^1 + 2*x^2],\n",
    "[0, 0, 0, 0*x^0 + 0*x^1 + 0*x^2 + 0*x^3 + 1*x^4, 0, 0],\n",
    "[0, 6*x^0, 1*x^0 + 4*x^1, 0*x^0 + 6*x^1 + 2*x^2 + 3*x^3, 3*x^0 + 1*x^1, 5*x^0 + 1*x^1 + 3*x^2],\n",
    "[0, 0, 0, 0*x^0 + 0*x^1 + 0*x^2 + 3*x^3, 0, 0*x^0 + 0*x^1 + 0*x^2 + 1*x^3]]\n",
    "\n",
    "\n",
    "M_n_s(L)"
   ]
  },
  {
   "cell_type": "code",
   "execution_count": 32,
   "id": "2ef6b0fc",
   "metadata": {},
   "outputs": [
    {
     "data": {
      "text/plain": [
       "Full MatrixSpace of 6 by 3 dense matrices over Univariate Polynomial Ring in x over Finite Field of size 7"
      ]
     },
     "execution_count": 32,
     "metadata": {},
     "output_type": "execute_result"
    }
   ],
   "source": [
    "Ms"
   ]
  },
  {
   "cell_type": "code",
   "execution_count": 33,
   "id": "d087aea7",
   "metadata": {},
   "outputs": [
    {
     "data": {
      "text/plain": [
       "6"
      ]
     },
     "execution_count": 33,
     "metadata": {},
     "output_type": "execute_result"
    }
   ],
   "source": [
    "len(L[0])"
   ]
  },
  {
   "cell_type": "code",
   "execution_count": null,
   "id": "5460d165",
   "metadata": {},
   "outputs": [],
   "source": []
  }
 ],
 "metadata": {
  "kernelspec": {
   "display_name": "SageMath 9.7.beta0",
   "language": "sage",
   "name": "sagemath"
  },
  "language_info": {
   "codemirror_mode": {
    "name": "ipython",
    "version": 3
   },
   "file_extension": ".py",
   "mimetype": "text/x-python",
   "name": "python",
   "nbconvert_exporter": "python",
   "pygments_lexer": "ipython3",
   "version": "3.10.3"
  }
 },
 "nbformat": 4,
 "nbformat_minor": 5
}
