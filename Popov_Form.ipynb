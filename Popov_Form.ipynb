{
 "cells": [
  {
   "cell_type": "code",
   "execution_count": 449,
   "metadata": {},
   "outputs": [],
   "source": [
    "def monic_pivot(M):\n",
    "    n = M.dimensions()[0]\n",
    "    lead_pos = M.leading_positions()\n",
    "    return Matrix([(M[i,lead_pos[i]].lc()^(-1)*M[i]).list() for i in range(n)])\n",
    "\n",
    "def ascending_transformation(M):\n",
    "    I = M.leading_positions()\n",
    "    row_ind = [(i,j,I[i]) for i,j in enumerate(M.row_degrees())]\n",
    "    \n",
    "    def pair_order(a):\n",
    "        return a[1]+a[2]*10^(-1)\n",
    "    \n",
    "    return matrix([M[i] for i,j,k in sorted(row_ind,key = pair_order)])\n",
    "\n",
    "def simple_transformation(M,k,l):\n",
    "    x = parent(M[0,0]).gen()\n",
    "    I_k = M.leading_positions()[k]\n",
    "    while(True):\n",
    "        P_k = M[k,I_k]\n",
    "        mon = M[l,I_k]\n",
    "        deg_P,deg_m = P_k.degree(), mon.degree()\n",
    "        if (deg_P > deg_m):\n",
    "            return M\n",
    "        coef_P,coef_m = P_k.lc(), mon.lc()\n",
    "\n",
    "        c = coef_m * coef_P^(-1)\n",
    "        e = deg_m-deg_P\n",
    "        M[l] = M[l] - c*x^e*M[k]\n",
    "\n",
    "def weak_to_popov(M):\n",
    "    if not(M.is_weak_popov()):\n",
    "        M = M.weak_popov_form()\n",
    "    A = ascending_transformation(M)\n",
    "    n = A.dimensions()[0]\n",
    "    I = A.leading_positions()\n",
    "    D = [A[i,j].degree() for i,j in enumerate(I)]\n",
    "    \n",
    "    for k in range(n):\n",
    "        if (I[k] != -1):\n",
    "            for l in range(k+1,n):\n",
    "                    if (A[l,I[k]].degree() - D[k] >= 0):\n",
    "                        A = simple_transformation(A,k,l)\n",
    "    return monic_pivot(A)"
   ]
  },
  {
   "cell_type": "code",
   "execution_count": 461,
   "metadata": {},
   "outputs": [],
   "source": [
    "pR.<x> = GF(7)[]\n",
    "MS = MatrixSpace(pR,4)\n",
    "M = MS.random_element()"
   ]
  },
  {
   "cell_type": "code",
   "execution_count": 462,
   "metadata": {},
   "outputs": [],
   "source": [
    "N = weak_to_popov(M)"
   ]
  },
  {
   "cell_type": "code",
   "execution_count": 463,
   "metadata": {},
   "outputs": [
    {
     "data": {
      "text/plain": [
       "[4*x + 3       5       1       0]\n",
       "[      0       0 2*x + 3   x + 1]\n",
       "[      0       5       6       3]\n",
       "[  x + 3       5 3*x + 6 2*x + 3]"
      ]
     },
     "execution_count": 463,
     "metadata": {},
     "output_type": "execute_result"
    }
   ],
   "source": [
    "M"
   ]
  },
  {
   "cell_type": "code",
   "execution_count": 464,
   "metadata": {},
   "outputs": [
    {
     "data": {
      "text/plain": [
       "[    0     4     2     1]\n",
       "[x + 6     3     2     0]\n",
       "[    0 x + 1     5     0]\n",
       "[    3     2 x + 4     0]"
      ]
     },
     "execution_count": 464,
     "metadata": {},
     "output_type": "execute_result"
    }
   ],
   "source": [
    "N"
   ]
  },
  {
   "cell_type": "code",
   "execution_count": 465,
   "metadata": {},
   "outputs": [
    {
     "data": {
      "text/plain": [
       "[0, 3, 3, 3]"
      ]
     },
     "execution_count": 465,
     "metadata": {},
     "output_type": "execute_result"
    }
   ],
   "source": [
    "M.leading_positions()"
   ]
  },
  {
   "cell_type": "code",
   "execution_count": 466,
   "metadata": {},
   "outputs": [
    {
     "data": {
      "text/plain": [
       "[3, 0, 1, 2]"
      ]
     },
     "execution_count": 466,
     "metadata": {},
     "output_type": "execute_result"
    }
   ],
   "source": [
    "N.leading_positions()"
   ]
  },
  {
   "cell_type": "code",
   "execution_count": 467,
   "metadata": {},
   "outputs": [],
   "source": [
    "A = matrix([[4*x^2+3*x+5,4*x^2+3*x+4,6*x^2+1],[3*x+6,3*x+5,3+x],[6*x^2+4*x+2,6*x^2,2*x^2+x]])"
   ]
  },
  {
   "cell_type": "code",
   "execution_count": 481,
   "metadata": {},
   "outputs": [
    {
     "data": {
      "text/plain": [
       "[4*x^2 + 3*x + 5 4*x^2 + 3*x + 4       6*x^2 + 1]\n",
       "[        3*x + 6         3*x + 5           x + 3]\n",
       "[6*x^2 + 4*x + 2           6*x^2       2*x^2 + x]"
      ]
     },
     "execution_count": 481,
     "metadata": {},
     "output_type": "execute_result"
    }
   ],
   "source": [
    "A"
   ]
  },
  {
   "cell_type": "code",
   "execution_count": 485,
   "metadata": {},
   "outputs": [],
   "source": [
    "R = A.weak_popov_form()"
   ]
  },
  {
   "cell_type": "code",
   "execution_count": 488,
   "metadata": {},
   "outputs": [
    {
     "data": {
      "text/plain": [
       "[      6       1       2]\n",
       "[      0       0       0]\n",
       "[      4 5*x + 4       1]"
      ]
     },
     "execution_count": 488,
     "metadata": {},
     "output_type": "execute_result"
    }
   ],
   "source": [
    "R"
   ]
  },
  {
   "cell_type": "code",
   "execution_count": 489,
   "metadata": {},
   "outputs": [
    {
     "data": {
      "text/plain": [
       "[2, -1, 1]"
      ]
     },
     "execution_count": 489,
     "metadata": {},
     "output_type": "execute_result"
    }
   ],
   "source": [
    "R.leading_positions()"
   ]
  },
  {
   "cell_type": "code",
   "execution_count": 490,
   "metadata": {},
   "outputs": [
    {
     "data": {
      "text/plain": [
       "[      6       1       2]\n",
       "[      0       0       0]\n",
       "[      4 5*x + 4       1]"
      ]
     },
     "execution_count": 490,
     "metadata": {},
     "output_type": "execute_result"
    }
   ],
   "source": [
    "R"
   ]
  },
  {
   "cell_type": "code",
   "execution_count": null,
   "metadata": {},
   "outputs": [],
   "source": []
  }
 ],
 "metadata": {
  "kernelspec": {
   "display_name": "SageMath 9.7.beta0",
   "language": "sage",
   "name": "sagemath"
  },
  "language_info": {
   "codemirror_mode": {
    "name": "ipython",
    "version": 3
   },
   "file_extension": ".py",
   "mimetype": "text/x-python",
   "name": "python",
   "nbconvert_exporter": "python",
   "pygments_lexer": "ipython3",
   "version": "3.10.3"
  }
 },
 "nbformat": 4,
 "nbformat_minor": 4
}
